{
  "nbformat": 4,
  "nbformat_minor": 0,
  "metadata": {
    "colab": {
      "name": "case_study_momo_Triet_Le.ipynb",
      "provenance": []
    },
    "kernelspec": {
      "name": "python3",
      "display_name": "Python 3"
    },
    "language_info": {
      "name": "python"
    }
  },
  "cells": [
    {
      "cell_type": "code",
      "source": [
        "import pandas as pd\n",
        "import numpy as np\n",
        "import matplotlib.pyplot as plt\n",
        "%matplotlib inline"
      ],
      "metadata": {
        "id": "6jiJdhuk2D06"
      },
      "execution_count": null,
      "outputs": []
    },
    {
      "cell_type": "markdown",
      "source": [
        "***Extract excel file(csv) into manipulatable format(pandas)***"
      ],
      "metadata": {
        "id": "3zDUuveW4lRP"
      }
    },
    {
      "cell_type": "code",
      "source": [
        "points_path = '/content/2022 Case challenge_ DA update.xlsx - Data. Loyalty Points.csv'\n",
        "loyal_benefits_path = '/content/2022 Case challenge_ DA update.xlsx - Data. Loyalty benefits.csv'\n",
        "trans_path = '/content/2022 Case challenge_ DA update.xlsx - Data. Transactions.csv'\n",
        "merchant_path = '/content/2022 Case challenge_ DA update.xlsx - Data.Merchant.csv'"
      ],
      "metadata": {
        "id": "kviVFr7k2bFA"
      },
      "execution_count": null,
      "outputs": []
    },
    {
      "cell_type": "code",
      "source": [
        "points = pd.read_csv(points_path)\n",
        "benefits = pd.read_csv(loyal_benefits_path)\n",
        "trans = pd.read_csv(trans_path)\n",
        "merchant = pd.read_csv(merchant_path)"
      ],
      "metadata": {
        "id": "pA_iWgO32yt-"
      },
      "execution_count": null,
      "outputs": []
    },
    {
      "cell_type": "markdown",
      "source": [
        "Modify columns name to no-spaces for the ease of query "
      ],
      "metadata": {
        "id": "hWIQw4mm4Z1f"
      }
    },
    {
      "cell_type": "code",
      "source": [
        "for df in [points,trans,merchant]:\n",
        "  df.rename(columns = {'Service Group': 'service_group'},inplace = True) "
      ],
      "metadata": {
        "id": "lgF1lnxt3UeI"
      },
      "execution_count": null,
      "outputs": []
    },
    {
      "cell_type": "code",
      "source": [
        "points.rename(columns={'Point Mechanism':'point_mechanism', 'Maximum Point Per Trans':'max_point_per_trans'}, inplace=True)"
      ],
      "metadata": {
        "id": "7cfje_yz3YdR"
      },
      "execution_count": null,
      "outputs": []
    },
    {
      "cell_type": "markdown",
      "source": [
        "Modify point_mechanism column to get point/GMV"
      ],
      "metadata": {
        "id": "z60e59Z5Fd0g"
      }
    },
    {
      "cell_type": "code",
      "source": [
        "point_pos = len(points.iloc[0,1]) - 1 #Get points per GMV's position in the string, if total length = 19 => the position will -19 to 0(from 0 to 0)\n",
        "points['point_mechanism'] = points['point_mechanism'].apply(lambda x: x[:-point_pos]) #Modify the column to get the point/GMV by cutting the redundant string\n",
        "points.head()"
      ],
      "metadata": {
        "colab": {
          "base_uri": "https://localhost:8080/",
          "height": 206
        },
        "id": "Rs0tOFpm-uyt",
        "outputId": "6ba798af-8fcc-43c4-d7e6-ee41c793af75"
      },
      "execution_count": null,
      "outputs": [
        {
          "output_type": "execute_result",
          "data": {
            "text/plain": [
              "                service_group point_mechanism max_point_per_trans\n",
              "0                 supermarket               1          500 points\n",
              "1                        data              10         1000 points\n",
              "2                         cvs               1          300 points\n",
              "3                 marketplace               1          500 points\n",
              "4  Coffee chains and Milk tea               1          500 points"
            ],
            "text/html": [
              "\n",
              "  <div id=\"df-c3922cc6-76af-4768-b23e-5778cc3a43d4\">\n",
              "    <div class=\"colab-df-container\">\n",
              "      <div>\n",
              "<style scoped>\n",
              "    .dataframe tbody tr th:only-of-type {\n",
              "        vertical-align: middle;\n",
              "    }\n",
              "\n",
              "    .dataframe tbody tr th {\n",
              "        vertical-align: top;\n",
              "    }\n",
              "\n",
              "    .dataframe thead th {\n",
              "        text-align: right;\n",
              "    }\n",
              "</style>\n",
              "<table border=\"1\" class=\"dataframe\">\n",
              "  <thead>\n",
              "    <tr style=\"text-align: right;\">\n",
              "      <th></th>\n",
              "      <th>service_group</th>\n",
              "      <th>point_mechanism</th>\n",
              "      <th>max_point_per_trans</th>\n",
              "    </tr>\n",
              "  </thead>\n",
              "  <tbody>\n",
              "    <tr>\n",
              "      <th>0</th>\n",
              "      <td>supermarket</td>\n",
              "      <td>1</td>\n",
              "      <td>500 points</td>\n",
              "    </tr>\n",
              "    <tr>\n",
              "      <th>1</th>\n",
              "      <td>data</td>\n",
              "      <td>10</td>\n",
              "      <td>1000 points</td>\n",
              "    </tr>\n",
              "    <tr>\n",
              "      <th>2</th>\n",
              "      <td>cvs</td>\n",
              "      <td>1</td>\n",
              "      <td>300 points</td>\n",
              "    </tr>\n",
              "    <tr>\n",
              "      <th>3</th>\n",
              "      <td>marketplace</td>\n",
              "      <td>1</td>\n",
              "      <td>500 points</td>\n",
              "    </tr>\n",
              "    <tr>\n",
              "      <th>4</th>\n",
              "      <td>Coffee chains and Milk tea</td>\n",
              "      <td>1</td>\n",
              "      <td>500 points</td>\n",
              "    </tr>\n",
              "  </tbody>\n",
              "</table>\n",
              "</div>\n",
              "      <button class=\"colab-df-convert\" onclick=\"convertToInteractive('df-c3922cc6-76af-4768-b23e-5778cc3a43d4')\"\n",
              "              title=\"Convert this dataframe to an interactive table.\"\n",
              "              style=\"display:none;\">\n",
              "        \n",
              "  <svg xmlns=\"http://www.w3.org/2000/svg\" height=\"24px\"viewBox=\"0 0 24 24\"\n",
              "       width=\"24px\">\n",
              "    <path d=\"M0 0h24v24H0V0z\" fill=\"none\"/>\n",
              "    <path d=\"M18.56 5.44l.94 2.06.94-2.06 2.06-.94-2.06-.94-.94-2.06-.94 2.06-2.06.94zm-11 1L8.5 8.5l.94-2.06 2.06-.94-2.06-.94L8.5 2.5l-.94 2.06-2.06.94zm10 10l.94 2.06.94-2.06 2.06-.94-2.06-.94-.94-2.06-.94 2.06-2.06.94z\"/><path d=\"M17.41 7.96l-1.37-1.37c-.4-.4-.92-.59-1.43-.59-.52 0-1.04.2-1.43.59L10.3 9.45l-7.72 7.72c-.78.78-.78 2.05 0 2.83L4 21.41c.39.39.9.59 1.41.59.51 0 1.02-.2 1.41-.59l7.78-7.78 2.81-2.81c.8-.78.8-2.07 0-2.86zM5.41 20L4 18.59l7.72-7.72 1.47 1.35L5.41 20z\"/>\n",
              "  </svg>\n",
              "      </button>\n",
              "      \n",
              "  <style>\n",
              "    .colab-df-container {\n",
              "      display:flex;\n",
              "      flex-wrap:wrap;\n",
              "      gap: 12px;\n",
              "    }\n",
              "\n",
              "    .colab-df-convert {\n",
              "      background-color: #E8F0FE;\n",
              "      border: none;\n",
              "      border-radius: 50%;\n",
              "      cursor: pointer;\n",
              "      display: none;\n",
              "      fill: #1967D2;\n",
              "      height: 32px;\n",
              "      padding: 0 0 0 0;\n",
              "      width: 32px;\n",
              "    }\n",
              "\n",
              "    .colab-df-convert:hover {\n",
              "      background-color: #E2EBFA;\n",
              "      box-shadow: 0px 1px 2px rgba(60, 64, 67, 0.3), 0px 1px 3px 1px rgba(60, 64, 67, 0.15);\n",
              "      fill: #174EA6;\n",
              "    }\n",
              "\n",
              "    [theme=dark] .colab-df-convert {\n",
              "      background-color: #3B4455;\n",
              "      fill: #D2E3FC;\n",
              "    }\n",
              "\n",
              "    [theme=dark] .colab-df-convert:hover {\n",
              "      background-color: #434B5C;\n",
              "      box-shadow: 0px 1px 3px 1px rgba(0, 0, 0, 0.15);\n",
              "      filter: drop-shadow(0px 1px 2px rgba(0, 0, 0, 0.3));\n",
              "      fill: #FFFFFF;\n",
              "    }\n",
              "  </style>\n",
              "\n",
              "      <script>\n",
              "        const buttonEl =\n",
              "          document.querySelector('#df-c3922cc6-76af-4768-b23e-5778cc3a43d4 button.colab-df-convert');\n",
              "        buttonEl.style.display =\n",
              "          google.colab.kernel.accessAllowed ? 'block' : 'none';\n",
              "\n",
              "        async function convertToInteractive(key) {\n",
              "          const element = document.querySelector('#df-c3922cc6-76af-4768-b23e-5778cc3a43d4');\n",
              "          const dataTable =\n",
              "            await google.colab.kernel.invokeFunction('convertToInteractive',\n",
              "                                                     [key], {});\n",
              "          if (!dataTable) return;\n",
              "\n",
              "          const docLinkHtml = 'Like what you see? Visit the ' +\n",
              "            '<a target=\"_blank\" href=https://colab.research.google.com/notebooks/data_table.ipynb>data table notebook</a>'\n",
              "            + ' to learn more about interactive tables.';\n",
              "          element.innerHTML = '';\n",
              "          dataTable['output_type'] = 'display_data';\n",
              "          await google.colab.output.renderOutput(dataTable, element);\n",
              "          const docLink = document.createElement('div');\n",
              "          docLink.innerHTML = docLinkHtml;\n",
              "          element.appendChild(docLink);\n",
              "        }\n",
              "      </script>\n",
              "    </div>\n",
              "  </div>\n",
              "  "
            ]
          },
          "metadata": {},
          "execution_count": 6
        }
      ]
    },
    {
      "cell_type": "markdown",
      "source": [
        "Modify max points per trans columns to usable format"
      ],
      "metadata": {
        "id": "ScOJ-7p3Z4Gy"
      }
    },
    {
      "cell_type": "code",
      "source": [
        "points['point_mechanism'] = points['point_mechanism'].astype(int)"
      ],
      "metadata": {
        "id": "EoJdUK98bQQ3"
      },
      "execution_count": null,
      "outputs": []
    },
    {
      "cell_type": "code",
      "source": [
        "points['max_point_per_trans'] = points['max_point_per_trans'].apply(lambda x: x[:-7]).astype(int)"
      ],
      "metadata": {
        "id": "mUDRycaCZigN"
      },
      "execution_count": null,
      "outputs": []
    },
    {
      "cell_type": "markdown",
      "source": [
        "#**Part 1: Data Processing**\n",
        "\n"
      ],
      "metadata": {
        "id": "tHKTykALFmJn"
      }
    },
    {
      "cell_type": "markdown",
      "source": [
        "1/ Combined with the 'Loyalty Points' table, add a column 'Loyalty Points' in 'Transactions' table with given rules. Then create another table named 'Loyalty Ranking' which must includes columns named Rank_name and Calculated_points to calculate the Rank of each user on daily basic. At the end of Mar 2022, how many user achived rank Gold? \t\t\t\t\t\t\t\t\t\t\t\t\t\t\t\t\t\t\t\t\t\t\t\t\t"
      ],
      "metadata": {
        "id": "Wra2j9-RFwWA"
      }
    },
    {
      "cell_type": "markdown",
      "source": [
        "**Rules dataframe**"
      ],
      "metadata": {
        "id": "jGFqW_6R8JBc"
      }
    },
    {
      "cell_type": "code",
      "source": [
        "rules_dict = {\n",
        "    'classID':[1,2,3,4],\n",
        "    'rank_name':['STANDARD','SILVER','GOLD','DIAMOND'],\n",
        "    'loyalty_points':[1000,2000,5000,float('inf')]\n",
        "}\n",
        "rules = pd.DataFrame(rules_dict)\n",
        "rules"
      ],
      "metadata": {
        "colab": {
          "base_uri": "https://localhost:8080/",
          "height": 175
        },
        "id": "lKgqKGmf4RWA",
        "outputId": "caaccbdd-64ef-4ede-dcd6-0411dfc85f58"
      },
      "execution_count": null,
      "outputs": [
        {
          "output_type": "execute_result",
          "data": {
            "text/plain": [
              "   classID rank_name  loyalty_points\n",
              "0        1  STANDARD          1000.0\n",
              "1        2    SILVER          2000.0\n",
              "2        3      GOLD          5000.0\n",
              "3        4   DIAMOND             inf"
            ],
            "text/html": [
              "\n",
              "  <div id=\"df-ab5296cb-a214-430f-82ed-e8c0041e8621\">\n",
              "    <div class=\"colab-df-container\">\n",
              "      <div>\n",
              "<style scoped>\n",
              "    .dataframe tbody tr th:only-of-type {\n",
              "        vertical-align: middle;\n",
              "    }\n",
              "\n",
              "    .dataframe tbody tr th {\n",
              "        vertical-align: top;\n",
              "    }\n",
              "\n",
              "    .dataframe thead th {\n",
              "        text-align: right;\n",
              "    }\n",
              "</style>\n",
              "<table border=\"1\" class=\"dataframe\">\n",
              "  <thead>\n",
              "    <tr style=\"text-align: right;\">\n",
              "      <th></th>\n",
              "      <th>classID</th>\n",
              "      <th>rank_name</th>\n",
              "      <th>loyalty_points</th>\n",
              "    </tr>\n",
              "  </thead>\n",
              "  <tbody>\n",
              "    <tr>\n",
              "      <th>0</th>\n",
              "      <td>1</td>\n",
              "      <td>STANDARD</td>\n",
              "      <td>1000.0</td>\n",
              "    </tr>\n",
              "    <tr>\n",
              "      <th>1</th>\n",
              "      <td>2</td>\n",
              "      <td>SILVER</td>\n",
              "      <td>2000.0</td>\n",
              "    </tr>\n",
              "    <tr>\n",
              "      <th>2</th>\n",
              "      <td>3</td>\n",
              "      <td>GOLD</td>\n",
              "      <td>5000.0</td>\n",
              "    </tr>\n",
              "    <tr>\n",
              "      <th>3</th>\n",
              "      <td>4</td>\n",
              "      <td>DIAMOND</td>\n",
              "      <td>inf</td>\n",
              "    </tr>\n",
              "  </tbody>\n",
              "</table>\n",
              "</div>\n",
              "      <button class=\"colab-df-convert\" onclick=\"convertToInteractive('df-ab5296cb-a214-430f-82ed-e8c0041e8621')\"\n",
              "              title=\"Convert this dataframe to an interactive table.\"\n",
              "              style=\"display:none;\">\n",
              "        \n",
              "  <svg xmlns=\"http://www.w3.org/2000/svg\" height=\"24px\"viewBox=\"0 0 24 24\"\n",
              "       width=\"24px\">\n",
              "    <path d=\"M0 0h24v24H0V0z\" fill=\"none\"/>\n",
              "    <path d=\"M18.56 5.44l.94 2.06.94-2.06 2.06-.94-2.06-.94-.94-2.06-.94 2.06-2.06.94zm-11 1L8.5 8.5l.94-2.06 2.06-.94-2.06-.94L8.5 2.5l-.94 2.06-2.06.94zm10 10l.94 2.06.94-2.06 2.06-.94-2.06-.94-.94-2.06-.94 2.06-2.06.94z\"/><path d=\"M17.41 7.96l-1.37-1.37c-.4-.4-.92-.59-1.43-.59-.52 0-1.04.2-1.43.59L10.3 9.45l-7.72 7.72c-.78.78-.78 2.05 0 2.83L4 21.41c.39.39.9.59 1.41.59.51 0 1.02-.2 1.41-.59l7.78-7.78 2.81-2.81c.8-.78.8-2.07 0-2.86zM5.41 20L4 18.59l7.72-7.72 1.47 1.35L5.41 20z\"/>\n",
              "  </svg>\n",
              "      </button>\n",
              "      \n",
              "  <style>\n",
              "    .colab-df-container {\n",
              "      display:flex;\n",
              "      flex-wrap:wrap;\n",
              "      gap: 12px;\n",
              "    }\n",
              "\n",
              "    .colab-df-convert {\n",
              "      background-color: #E8F0FE;\n",
              "      border: none;\n",
              "      border-radius: 50%;\n",
              "      cursor: pointer;\n",
              "      display: none;\n",
              "      fill: #1967D2;\n",
              "      height: 32px;\n",
              "      padding: 0 0 0 0;\n",
              "      width: 32px;\n",
              "    }\n",
              "\n",
              "    .colab-df-convert:hover {\n",
              "      background-color: #E2EBFA;\n",
              "      box-shadow: 0px 1px 2px rgba(60, 64, 67, 0.3), 0px 1px 3px 1px rgba(60, 64, 67, 0.15);\n",
              "      fill: #174EA6;\n",
              "    }\n",
              "\n",
              "    [theme=dark] .colab-df-convert {\n",
              "      background-color: #3B4455;\n",
              "      fill: #D2E3FC;\n",
              "    }\n",
              "\n",
              "    [theme=dark] .colab-df-convert:hover {\n",
              "      background-color: #434B5C;\n",
              "      box-shadow: 0px 1px 3px 1px rgba(0, 0, 0, 0.15);\n",
              "      filter: drop-shadow(0px 1px 2px rgba(0, 0, 0, 0.3));\n",
              "      fill: #FFFFFF;\n",
              "    }\n",
              "  </style>\n",
              "\n",
              "      <script>\n",
              "        const buttonEl =\n",
              "          document.querySelector('#df-ab5296cb-a214-430f-82ed-e8c0041e8621 button.colab-df-convert');\n",
              "        buttonEl.style.display =\n",
              "          google.colab.kernel.accessAllowed ? 'block' : 'none';\n",
              "\n",
              "        async function convertToInteractive(key) {\n",
              "          const element = document.querySelector('#df-ab5296cb-a214-430f-82ed-e8c0041e8621');\n",
              "          const dataTable =\n",
              "            await google.colab.kernel.invokeFunction('convertToInteractive',\n",
              "                                                     [key], {});\n",
              "          if (!dataTable) return;\n",
              "\n",
              "          const docLinkHtml = 'Like what you see? Visit the ' +\n",
              "            '<a target=\"_blank\" href=https://colab.research.google.com/notebooks/data_table.ipynb>data table notebook</a>'\n",
              "            + ' to learn more about interactive tables.';\n",
              "          element.innerHTML = '';\n",
              "          dataTable['output_type'] = 'display_data';\n",
              "          await google.colab.output.renderOutput(dataTable, element);\n",
              "          const docLink = document.createElement('div');\n",
              "          docLink.innerHTML = docLinkHtml;\n",
              "          element.appendChild(docLink);\n",
              "        }\n",
              "      </script>\n",
              "    </div>\n",
              "  </div>\n",
              "  "
            ]
          },
          "metadata": {},
          "execution_count": 9
        }
      ]
    },
    {
      "cell_type": "markdown",
      "source": [
        "- Initiate a transaction table deep copy for the ease of testing and backing-up\n",
        "- Get only data since the \"Momo Hoàn Tiền\" program launched - Jan 1st 2022\n",
        "- Get total point per user\n"
      ],
      "metadata": {
        "id": "Bf5yxI_PVZL5"
      }
    },
    {
      "cell_type": "code",
      "source": [
        "#parse date into datetime format\n",
        "trans['DATE'] = pd.to_datetime(trans['DATE'])\n",
        "#filter out data history that took place before the launched date\n",
        "new_trans = trans[trans.DATE > '2021-12-31'].reset_index().drop(['index'],axis = 1)\n",
        "new_trans.head()"
      ],
      "metadata": {
        "colab": {
          "base_uri": "https://localhost:8080/",
          "height": 206
        },
        "id": "ZqDQYHhbTnws",
        "outputId": "5670e463-3b78-4831-9fce-1c7b57ea3f4e"
      },
      "execution_count": null,
      "outputs": [
        {
          "output_type": "execute_result",
          "data": {
            "text/plain": [
              "        DATE     Order_id NEWVERTICAL_Merchant  MerchantID   User_id     GMV  \\\n",
              "0 2022-01-01  19502954801          Supermarket          25  45715492   41400   \n",
              "1 2022-01-01  19492487660                  CVS          28  41720789  205000   \n",
              "2 2022-01-01  19491373621                  CVS          28  55200938  237000   \n",
              "3 2022-01-01  19485025779                  CVS          28  17144057   17000   \n",
              "4 2022-01-01  19497349350          Marketplace          37  46410460  340000   \n",
              "\n",
              "  service_group  \n",
              "0   supermarket  \n",
              "1           cvs  \n",
              "2           cvs  \n",
              "3           cvs  \n",
              "4   marketplace  "
            ],
            "text/html": [
              "\n",
              "  <div id=\"df-3122c523-b854-42f8-8e82-f77cd131d13e\">\n",
              "    <div class=\"colab-df-container\">\n",
              "      <div>\n",
              "<style scoped>\n",
              "    .dataframe tbody tr th:only-of-type {\n",
              "        vertical-align: middle;\n",
              "    }\n",
              "\n",
              "    .dataframe tbody tr th {\n",
              "        vertical-align: top;\n",
              "    }\n",
              "\n",
              "    .dataframe thead th {\n",
              "        text-align: right;\n",
              "    }\n",
              "</style>\n",
              "<table border=\"1\" class=\"dataframe\">\n",
              "  <thead>\n",
              "    <tr style=\"text-align: right;\">\n",
              "      <th></th>\n",
              "      <th>DATE</th>\n",
              "      <th>Order_id</th>\n",
              "      <th>NEWVERTICAL_Merchant</th>\n",
              "      <th>MerchantID</th>\n",
              "      <th>User_id</th>\n",
              "      <th>GMV</th>\n",
              "      <th>service_group</th>\n",
              "    </tr>\n",
              "  </thead>\n",
              "  <tbody>\n",
              "    <tr>\n",
              "      <th>0</th>\n",
              "      <td>2022-01-01</td>\n",
              "      <td>19502954801</td>\n",
              "      <td>Supermarket</td>\n",
              "      <td>25</td>\n",
              "      <td>45715492</td>\n",
              "      <td>41400</td>\n",
              "      <td>supermarket</td>\n",
              "    </tr>\n",
              "    <tr>\n",
              "      <th>1</th>\n",
              "      <td>2022-01-01</td>\n",
              "      <td>19492487660</td>\n",
              "      <td>CVS</td>\n",
              "      <td>28</td>\n",
              "      <td>41720789</td>\n",
              "      <td>205000</td>\n",
              "      <td>cvs</td>\n",
              "    </tr>\n",
              "    <tr>\n",
              "      <th>2</th>\n",
              "      <td>2022-01-01</td>\n",
              "      <td>19491373621</td>\n",
              "      <td>CVS</td>\n",
              "      <td>28</td>\n",
              "      <td>55200938</td>\n",
              "      <td>237000</td>\n",
              "      <td>cvs</td>\n",
              "    </tr>\n",
              "    <tr>\n",
              "      <th>3</th>\n",
              "      <td>2022-01-01</td>\n",
              "      <td>19485025779</td>\n",
              "      <td>CVS</td>\n",
              "      <td>28</td>\n",
              "      <td>17144057</td>\n",
              "      <td>17000</td>\n",
              "      <td>cvs</td>\n",
              "    </tr>\n",
              "    <tr>\n",
              "      <th>4</th>\n",
              "      <td>2022-01-01</td>\n",
              "      <td>19497349350</td>\n",
              "      <td>Marketplace</td>\n",
              "      <td>37</td>\n",
              "      <td>46410460</td>\n",
              "      <td>340000</td>\n",
              "      <td>marketplace</td>\n",
              "    </tr>\n",
              "  </tbody>\n",
              "</table>\n",
              "</div>\n",
              "      <button class=\"colab-df-convert\" onclick=\"convertToInteractive('df-3122c523-b854-42f8-8e82-f77cd131d13e')\"\n",
              "              title=\"Convert this dataframe to an interactive table.\"\n",
              "              style=\"display:none;\">\n",
              "        \n",
              "  <svg xmlns=\"http://www.w3.org/2000/svg\" height=\"24px\"viewBox=\"0 0 24 24\"\n",
              "       width=\"24px\">\n",
              "    <path d=\"M0 0h24v24H0V0z\" fill=\"none\"/>\n",
              "    <path d=\"M18.56 5.44l.94 2.06.94-2.06 2.06-.94-2.06-.94-.94-2.06-.94 2.06-2.06.94zm-11 1L8.5 8.5l.94-2.06 2.06-.94-2.06-.94L8.5 2.5l-.94 2.06-2.06.94zm10 10l.94 2.06.94-2.06 2.06-.94-2.06-.94-.94-2.06-.94 2.06-2.06.94z\"/><path d=\"M17.41 7.96l-1.37-1.37c-.4-.4-.92-.59-1.43-.59-.52 0-1.04.2-1.43.59L10.3 9.45l-7.72 7.72c-.78.78-.78 2.05 0 2.83L4 21.41c.39.39.9.59 1.41.59.51 0 1.02-.2 1.41-.59l7.78-7.78 2.81-2.81c.8-.78.8-2.07 0-2.86zM5.41 20L4 18.59l7.72-7.72 1.47 1.35L5.41 20z\"/>\n",
              "  </svg>\n",
              "      </button>\n",
              "      \n",
              "  <style>\n",
              "    .colab-df-container {\n",
              "      display:flex;\n",
              "      flex-wrap:wrap;\n",
              "      gap: 12px;\n",
              "    }\n",
              "\n",
              "    .colab-df-convert {\n",
              "      background-color: #E8F0FE;\n",
              "      border: none;\n",
              "      border-radius: 50%;\n",
              "      cursor: pointer;\n",
              "      display: none;\n",
              "      fill: #1967D2;\n",
              "      height: 32px;\n",
              "      padding: 0 0 0 0;\n",
              "      width: 32px;\n",
              "    }\n",
              "\n",
              "    .colab-df-convert:hover {\n",
              "      background-color: #E2EBFA;\n",
              "      box-shadow: 0px 1px 2px rgba(60, 64, 67, 0.3), 0px 1px 3px 1px rgba(60, 64, 67, 0.15);\n",
              "      fill: #174EA6;\n",
              "    }\n",
              "\n",
              "    [theme=dark] .colab-df-convert {\n",
              "      background-color: #3B4455;\n",
              "      fill: #D2E3FC;\n",
              "    }\n",
              "\n",
              "    [theme=dark] .colab-df-convert:hover {\n",
              "      background-color: #434B5C;\n",
              "      box-shadow: 0px 1px 3px 1px rgba(0, 0, 0, 0.15);\n",
              "      filter: drop-shadow(0px 1px 2px rgba(0, 0, 0, 0.3));\n",
              "      fill: #FFFFFF;\n",
              "    }\n",
              "  </style>\n",
              "\n",
              "      <script>\n",
              "        const buttonEl =\n",
              "          document.querySelector('#df-3122c523-b854-42f8-8e82-f77cd131d13e button.colab-df-convert');\n",
              "        buttonEl.style.display =\n",
              "          google.colab.kernel.accessAllowed ? 'block' : 'none';\n",
              "\n",
              "        async function convertToInteractive(key) {\n",
              "          const element = document.querySelector('#df-3122c523-b854-42f8-8e82-f77cd131d13e');\n",
              "          const dataTable =\n",
              "            await google.colab.kernel.invokeFunction('convertToInteractive',\n",
              "                                                     [key], {});\n",
              "          if (!dataTable) return;\n",
              "\n",
              "          const docLinkHtml = 'Like what you see? Visit the ' +\n",
              "            '<a target=\"_blank\" href=https://colab.research.google.com/notebooks/data_table.ipynb>data table notebook</a>'\n",
              "            + ' to learn more about interactive tables.';\n",
              "          element.innerHTML = '';\n",
              "          dataTable['output_type'] = 'display_data';\n",
              "          await google.colab.output.renderOutput(dataTable, element);\n",
              "          const docLink = document.createElement('div');\n",
              "          docLink.innerHTML = docLinkHtml;\n",
              "          element.appendChild(docLink);\n",
              "        }\n",
              "      </script>\n",
              "    </div>\n",
              "  </div>\n",
              "  "
            ]
          },
          "metadata": {},
          "execution_count": 10
        }
      ]
    },
    {
      "cell_type": "markdown",
      "source": [
        "Check if there's any null value"
      ],
      "metadata": {
        "id": "-djGbCeir9ZA"
      }
    },
    {
      "cell_type": "markdown",
      "source": [
        "Dropped duplicated data"
      ],
      "metadata": {
        "id": "-urGfVVRsBAF"
      }
    },
    {
      "cell_type": "code",
      "source": [
        "new_trans.drop_duplicates(inplace=True,ignore_index=True)"
      ],
      "metadata": {
        "id": "beNa_M37sGDS"
      },
      "execution_count": null,
      "outputs": []
    },
    {
      "cell_type": "markdown",
      "source": [
        "Create function to calculate point from GMV and service group respectively"
      ],
      "metadata": {
        "id": "g_CcB4rJsfWP"
      }
    },
    {
      "cell_type": "code",
      "source": [
        "#Convert to point based on the points table\n",
        "def to_point(x):\n",
        "  service_group, gmv = x[-1], x[-2]\n",
        "  cur_category = points[points['service_group'] == service_group]\n",
        "  point = cur_category.iloc[0,1] * gmv / 1000\n",
        "  if point > cur_category.iloc[0,2]:\n",
        "    point = cur_category.iloc[0,2]\n",
        "  return point\n"
      ],
      "metadata": {
        "id": "vyZZvvfuY1Od"
      },
      "execution_count": null,
      "outputs": []
    },
    {
      "cell_type": "markdown",
      "source": [
        "\n",
        "---\n",
        "\n"
      ],
      "metadata": {
        "id": "aEwjnSTGUY-j"
      }
    },
    {
      "cell_type": "code",
      "source": [
        "new_trans['point'] = new_trans.apply(to_point, axis=1)\n",
        "new_trans.head()"
      ],
      "metadata": {
        "colab": {
          "base_uri": "https://localhost:8080/",
          "height": 206
        },
        "id": "-VX2R9MZVVYX",
        "outputId": "34054de8-3c6e-4757-c9cd-423ac2a9ec32"
      },
      "execution_count": null,
      "outputs": [
        {
          "output_type": "execute_result",
          "data": {
            "text/plain": [
              "        DATE     Order_id NEWVERTICAL_Merchant  MerchantID   User_id     GMV  \\\n",
              "0 2022-01-01  19502954801          Supermarket          25  45715492   41400   \n",
              "1 2022-01-01  19492487660                  CVS          28  41720789  205000   \n",
              "2 2022-01-01  19491373621                  CVS          28  55200938  237000   \n",
              "3 2022-01-01  19485025779                  CVS          28  17144057   17000   \n",
              "4 2022-01-01  19497349350          Marketplace          37  46410460  340000   \n",
              "\n",
              "  service_group  point  \n",
              "0   supermarket   41.4  \n",
              "1           cvs  205.0  \n",
              "2           cvs  237.0  \n",
              "3           cvs   17.0  \n",
              "4   marketplace  340.0  "
            ],
            "text/html": [
              "\n",
              "  <div id=\"df-27117d15-4f43-4f56-aad8-07bdaffd2536\">\n",
              "    <div class=\"colab-df-container\">\n",
              "      <div>\n",
              "<style scoped>\n",
              "    .dataframe tbody tr th:only-of-type {\n",
              "        vertical-align: middle;\n",
              "    }\n",
              "\n",
              "    .dataframe tbody tr th {\n",
              "        vertical-align: top;\n",
              "    }\n",
              "\n",
              "    .dataframe thead th {\n",
              "        text-align: right;\n",
              "    }\n",
              "</style>\n",
              "<table border=\"1\" class=\"dataframe\">\n",
              "  <thead>\n",
              "    <tr style=\"text-align: right;\">\n",
              "      <th></th>\n",
              "      <th>DATE</th>\n",
              "      <th>Order_id</th>\n",
              "      <th>NEWVERTICAL_Merchant</th>\n",
              "      <th>MerchantID</th>\n",
              "      <th>User_id</th>\n",
              "      <th>GMV</th>\n",
              "      <th>service_group</th>\n",
              "      <th>point</th>\n",
              "    </tr>\n",
              "  </thead>\n",
              "  <tbody>\n",
              "    <tr>\n",
              "      <th>0</th>\n",
              "      <td>2022-01-01</td>\n",
              "      <td>19502954801</td>\n",
              "      <td>Supermarket</td>\n",
              "      <td>25</td>\n",
              "      <td>45715492</td>\n",
              "      <td>41400</td>\n",
              "      <td>supermarket</td>\n",
              "      <td>41.4</td>\n",
              "    </tr>\n",
              "    <tr>\n",
              "      <th>1</th>\n",
              "      <td>2022-01-01</td>\n",
              "      <td>19492487660</td>\n",
              "      <td>CVS</td>\n",
              "      <td>28</td>\n",
              "      <td>41720789</td>\n",
              "      <td>205000</td>\n",
              "      <td>cvs</td>\n",
              "      <td>205.0</td>\n",
              "    </tr>\n",
              "    <tr>\n",
              "      <th>2</th>\n",
              "      <td>2022-01-01</td>\n",
              "      <td>19491373621</td>\n",
              "      <td>CVS</td>\n",
              "      <td>28</td>\n",
              "      <td>55200938</td>\n",
              "      <td>237000</td>\n",
              "      <td>cvs</td>\n",
              "      <td>237.0</td>\n",
              "    </tr>\n",
              "    <tr>\n",
              "      <th>3</th>\n",
              "      <td>2022-01-01</td>\n",
              "      <td>19485025779</td>\n",
              "      <td>CVS</td>\n",
              "      <td>28</td>\n",
              "      <td>17144057</td>\n",
              "      <td>17000</td>\n",
              "      <td>cvs</td>\n",
              "      <td>17.0</td>\n",
              "    </tr>\n",
              "    <tr>\n",
              "      <th>4</th>\n",
              "      <td>2022-01-01</td>\n",
              "      <td>19497349350</td>\n",
              "      <td>Marketplace</td>\n",
              "      <td>37</td>\n",
              "      <td>46410460</td>\n",
              "      <td>340000</td>\n",
              "      <td>marketplace</td>\n",
              "      <td>340.0</td>\n",
              "    </tr>\n",
              "  </tbody>\n",
              "</table>\n",
              "</div>\n",
              "      <button class=\"colab-df-convert\" onclick=\"convertToInteractive('df-27117d15-4f43-4f56-aad8-07bdaffd2536')\"\n",
              "              title=\"Convert this dataframe to an interactive table.\"\n",
              "              style=\"display:none;\">\n",
              "        \n",
              "  <svg xmlns=\"http://www.w3.org/2000/svg\" height=\"24px\"viewBox=\"0 0 24 24\"\n",
              "       width=\"24px\">\n",
              "    <path d=\"M0 0h24v24H0V0z\" fill=\"none\"/>\n",
              "    <path d=\"M18.56 5.44l.94 2.06.94-2.06 2.06-.94-2.06-.94-.94-2.06-.94 2.06-2.06.94zm-11 1L8.5 8.5l.94-2.06 2.06-.94-2.06-.94L8.5 2.5l-.94 2.06-2.06.94zm10 10l.94 2.06.94-2.06 2.06-.94-2.06-.94-.94-2.06-.94 2.06-2.06.94z\"/><path d=\"M17.41 7.96l-1.37-1.37c-.4-.4-.92-.59-1.43-.59-.52 0-1.04.2-1.43.59L10.3 9.45l-7.72 7.72c-.78.78-.78 2.05 0 2.83L4 21.41c.39.39.9.59 1.41.59.51 0 1.02-.2 1.41-.59l7.78-7.78 2.81-2.81c.8-.78.8-2.07 0-2.86zM5.41 20L4 18.59l7.72-7.72 1.47 1.35L5.41 20z\"/>\n",
              "  </svg>\n",
              "      </button>\n",
              "      \n",
              "  <style>\n",
              "    .colab-df-container {\n",
              "      display:flex;\n",
              "      flex-wrap:wrap;\n",
              "      gap: 12px;\n",
              "    }\n",
              "\n",
              "    .colab-df-convert {\n",
              "      background-color: #E8F0FE;\n",
              "      border: none;\n",
              "      border-radius: 50%;\n",
              "      cursor: pointer;\n",
              "      display: none;\n",
              "      fill: #1967D2;\n",
              "      height: 32px;\n",
              "      padding: 0 0 0 0;\n",
              "      width: 32px;\n",
              "    }\n",
              "\n",
              "    .colab-df-convert:hover {\n",
              "      background-color: #E2EBFA;\n",
              "      box-shadow: 0px 1px 2px rgba(60, 64, 67, 0.3), 0px 1px 3px 1px rgba(60, 64, 67, 0.15);\n",
              "      fill: #174EA6;\n",
              "    }\n",
              "\n",
              "    [theme=dark] .colab-df-convert {\n",
              "      background-color: #3B4455;\n",
              "      fill: #D2E3FC;\n",
              "    }\n",
              "\n",
              "    [theme=dark] .colab-df-convert:hover {\n",
              "      background-color: #434B5C;\n",
              "      box-shadow: 0px 1px 3px 1px rgba(0, 0, 0, 0.15);\n",
              "      filter: drop-shadow(0px 1px 2px rgba(0, 0, 0, 0.3));\n",
              "      fill: #FFFFFF;\n",
              "    }\n",
              "  </style>\n",
              "\n",
              "      <script>\n",
              "        const buttonEl =\n",
              "          document.querySelector('#df-27117d15-4f43-4f56-aad8-07bdaffd2536 button.colab-df-convert');\n",
              "        buttonEl.style.display =\n",
              "          google.colab.kernel.accessAllowed ? 'block' : 'none';\n",
              "\n",
              "        async function convertToInteractive(key) {\n",
              "          const element = document.querySelector('#df-27117d15-4f43-4f56-aad8-07bdaffd2536');\n",
              "          const dataTable =\n",
              "            await google.colab.kernel.invokeFunction('convertToInteractive',\n",
              "                                                     [key], {});\n",
              "          if (!dataTable) return;\n",
              "\n",
              "          const docLinkHtml = 'Like what you see? Visit the ' +\n",
              "            '<a target=\"_blank\" href=https://colab.research.google.com/notebooks/data_table.ipynb>data table notebook</a>'\n",
              "            + ' to learn more about interactive tables.';\n",
              "          element.innerHTML = '';\n",
              "          dataTable['output_type'] = 'display_data';\n",
              "          await google.colab.output.renderOutput(dataTable, element);\n",
              "          const docLink = document.createElement('div');\n",
              "          docLink.innerHTML = docLinkHtml;\n",
              "          element.appendChild(docLink);\n",
              "        }\n",
              "      </script>\n",
              "    </div>\n",
              "  </div>\n",
              "  "
            ]
          },
          "metadata": {},
          "execution_count": 13
        }
      ]
    },
    {
      "cell_type": "markdown",
      "source": [
        "Add total point on each daily basis for each user"
      ],
      "metadata": {
        "id": "i60xxAYUUADa"
      }
    },
    {
      "cell_type": "markdown",
      "source": [
        "Deep copy new_trans dataframe, and drop unnecessary columns "
      ],
      "metadata": {
        "id": "HcSZmsmgm8ao"
      }
    },
    {
      "cell_type": "code",
      "source": [
        "temp2 = new_trans.copy()\n",
        "temp2.head()"
      ],
      "metadata": {
        "colab": {
          "base_uri": "https://localhost:8080/",
          "height": 206
        },
        "id": "vtSYveGK4Rvx",
        "outputId": "628ef948-07f4-4d92-e37e-359ff1eac089"
      },
      "execution_count": null,
      "outputs": [
        {
          "output_type": "execute_result",
          "data": {
            "text/plain": [
              "        DATE     Order_id NEWVERTICAL_Merchant  MerchantID   User_id     GMV  \\\n",
              "0 2022-01-01  19502954801          Supermarket          25  45715492   41400   \n",
              "1 2022-01-01  19492487660                  CVS          28  41720789  205000   \n",
              "2 2022-01-01  19491373621                  CVS          28  55200938  237000   \n",
              "3 2022-01-01  19485025779                  CVS          28  17144057   17000   \n",
              "4 2022-01-01  19497349350          Marketplace          37  46410460  340000   \n",
              "\n",
              "  service_group  point  \n",
              "0   supermarket   41.4  \n",
              "1           cvs  205.0  \n",
              "2           cvs  237.0  \n",
              "3           cvs   17.0  \n",
              "4   marketplace  340.0  "
            ],
            "text/html": [
              "\n",
              "  <div id=\"df-3eb0a1ee-15e2-4a3d-a1df-bc8f100bfad1\">\n",
              "    <div class=\"colab-df-container\">\n",
              "      <div>\n",
              "<style scoped>\n",
              "    .dataframe tbody tr th:only-of-type {\n",
              "        vertical-align: middle;\n",
              "    }\n",
              "\n",
              "    .dataframe tbody tr th {\n",
              "        vertical-align: top;\n",
              "    }\n",
              "\n",
              "    .dataframe thead th {\n",
              "        text-align: right;\n",
              "    }\n",
              "</style>\n",
              "<table border=\"1\" class=\"dataframe\">\n",
              "  <thead>\n",
              "    <tr style=\"text-align: right;\">\n",
              "      <th></th>\n",
              "      <th>DATE</th>\n",
              "      <th>Order_id</th>\n",
              "      <th>NEWVERTICAL_Merchant</th>\n",
              "      <th>MerchantID</th>\n",
              "      <th>User_id</th>\n",
              "      <th>GMV</th>\n",
              "      <th>service_group</th>\n",
              "      <th>point</th>\n",
              "    </tr>\n",
              "  </thead>\n",
              "  <tbody>\n",
              "    <tr>\n",
              "      <th>0</th>\n",
              "      <td>2022-01-01</td>\n",
              "      <td>19502954801</td>\n",
              "      <td>Supermarket</td>\n",
              "      <td>25</td>\n",
              "      <td>45715492</td>\n",
              "      <td>41400</td>\n",
              "      <td>supermarket</td>\n",
              "      <td>41.4</td>\n",
              "    </tr>\n",
              "    <tr>\n",
              "      <th>1</th>\n",
              "      <td>2022-01-01</td>\n",
              "      <td>19492487660</td>\n",
              "      <td>CVS</td>\n",
              "      <td>28</td>\n",
              "      <td>41720789</td>\n",
              "      <td>205000</td>\n",
              "      <td>cvs</td>\n",
              "      <td>205.0</td>\n",
              "    </tr>\n",
              "    <tr>\n",
              "      <th>2</th>\n",
              "      <td>2022-01-01</td>\n",
              "      <td>19491373621</td>\n",
              "      <td>CVS</td>\n",
              "      <td>28</td>\n",
              "      <td>55200938</td>\n",
              "      <td>237000</td>\n",
              "      <td>cvs</td>\n",
              "      <td>237.0</td>\n",
              "    </tr>\n",
              "    <tr>\n",
              "      <th>3</th>\n",
              "      <td>2022-01-01</td>\n",
              "      <td>19485025779</td>\n",
              "      <td>CVS</td>\n",
              "      <td>28</td>\n",
              "      <td>17144057</td>\n",
              "      <td>17000</td>\n",
              "      <td>cvs</td>\n",
              "      <td>17.0</td>\n",
              "    </tr>\n",
              "    <tr>\n",
              "      <th>4</th>\n",
              "      <td>2022-01-01</td>\n",
              "      <td>19497349350</td>\n",
              "      <td>Marketplace</td>\n",
              "      <td>37</td>\n",
              "      <td>46410460</td>\n",
              "      <td>340000</td>\n",
              "      <td>marketplace</td>\n",
              "      <td>340.0</td>\n",
              "    </tr>\n",
              "  </tbody>\n",
              "</table>\n",
              "</div>\n",
              "      <button class=\"colab-df-convert\" onclick=\"convertToInteractive('df-3eb0a1ee-15e2-4a3d-a1df-bc8f100bfad1')\"\n",
              "              title=\"Convert this dataframe to an interactive table.\"\n",
              "              style=\"display:none;\">\n",
              "        \n",
              "  <svg xmlns=\"http://www.w3.org/2000/svg\" height=\"24px\"viewBox=\"0 0 24 24\"\n",
              "       width=\"24px\">\n",
              "    <path d=\"M0 0h24v24H0V0z\" fill=\"none\"/>\n",
              "    <path d=\"M18.56 5.44l.94 2.06.94-2.06 2.06-.94-2.06-.94-.94-2.06-.94 2.06-2.06.94zm-11 1L8.5 8.5l.94-2.06 2.06-.94-2.06-.94L8.5 2.5l-.94 2.06-2.06.94zm10 10l.94 2.06.94-2.06 2.06-.94-2.06-.94-.94-2.06-.94 2.06-2.06.94z\"/><path d=\"M17.41 7.96l-1.37-1.37c-.4-.4-.92-.59-1.43-.59-.52 0-1.04.2-1.43.59L10.3 9.45l-7.72 7.72c-.78.78-.78 2.05 0 2.83L4 21.41c.39.39.9.59 1.41.59.51 0 1.02-.2 1.41-.59l7.78-7.78 2.81-2.81c.8-.78.8-2.07 0-2.86zM5.41 20L4 18.59l7.72-7.72 1.47 1.35L5.41 20z\"/>\n",
              "  </svg>\n",
              "      </button>\n",
              "      \n",
              "  <style>\n",
              "    .colab-df-container {\n",
              "      display:flex;\n",
              "      flex-wrap:wrap;\n",
              "      gap: 12px;\n",
              "    }\n",
              "\n",
              "    .colab-df-convert {\n",
              "      background-color: #E8F0FE;\n",
              "      border: none;\n",
              "      border-radius: 50%;\n",
              "      cursor: pointer;\n",
              "      display: none;\n",
              "      fill: #1967D2;\n",
              "      height: 32px;\n",
              "      padding: 0 0 0 0;\n",
              "      width: 32px;\n",
              "    }\n",
              "\n",
              "    .colab-df-convert:hover {\n",
              "      background-color: #E2EBFA;\n",
              "      box-shadow: 0px 1px 2px rgba(60, 64, 67, 0.3), 0px 1px 3px 1px rgba(60, 64, 67, 0.15);\n",
              "      fill: #174EA6;\n",
              "    }\n",
              "\n",
              "    [theme=dark] .colab-df-convert {\n",
              "      background-color: #3B4455;\n",
              "      fill: #D2E3FC;\n",
              "    }\n",
              "\n",
              "    [theme=dark] .colab-df-convert:hover {\n",
              "      background-color: #434B5C;\n",
              "      box-shadow: 0px 1px 3px 1px rgba(0, 0, 0, 0.15);\n",
              "      filter: drop-shadow(0px 1px 2px rgba(0, 0, 0, 0.3));\n",
              "      fill: #FFFFFF;\n",
              "    }\n",
              "  </style>\n",
              "\n",
              "      <script>\n",
              "        const buttonEl =\n",
              "          document.querySelector('#df-3eb0a1ee-15e2-4a3d-a1df-bc8f100bfad1 button.colab-df-convert');\n",
              "        buttonEl.style.display =\n",
              "          google.colab.kernel.accessAllowed ? 'block' : 'none';\n",
              "\n",
              "        async function convertToInteractive(key) {\n",
              "          const element = document.querySelector('#df-3eb0a1ee-15e2-4a3d-a1df-bc8f100bfad1');\n",
              "          const dataTable =\n",
              "            await google.colab.kernel.invokeFunction('convertToInteractive',\n",
              "                                                     [key], {});\n",
              "          if (!dataTable) return;\n",
              "\n",
              "          const docLinkHtml = 'Like what you see? Visit the ' +\n",
              "            '<a target=\"_blank\" href=https://colab.research.google.com/notebooks/data_table.ipynb>data table notebook</a>'\n",
              "            + ' to learn more about interactive tables.';\n",
              "          element.innerHTML = '';\n",
              "          dataTable['output_type'] = 'display_data';\n",
              "          await google.colab.output.renderOutput(dataTable, element);\n",
              "          const docLink = document.createElement('div');\n",
              "          docLink.innerHTML = docLinkHtml;\n",
              "          element.appendChild(docLink);\n",
              "        }\n",
              "      </script>\n",
              "    </div>\n",
              "  </div>\n",
              "  "
            ]
          },
          "metadata": {},
          "execution_count": 14
        }
      ]
    },
    {
      "cell_type": "code",
      "source": [
        "temp2_cols = ['User_id','DATE','point','Order_id']\n",
        "temp2 = temp2[temp2_cols]\n",
        "temp2.set_index('User_id',inplace=True)\n",
        "temp2.head()"
      ],
      "metadata": {
        "colab": {
          "base_uri": "https://localhost:8080/",
          "height": 238
        },
        "id": "K8rBIcaK4hZp",
        "outputId": "588e933e-f21b-461a-9299-cdd2aa184400"
      },
      "execution_count": null,
      "outputs": [
        {
          "output_type": "execute_result",
          "data": {
            "text/plain": [
              "               DATE  point     Order_id\n",
              "User_id                                \n",
              "45715492 2022-01-01   41.4  19502954801\n",
              "41720789 2022-01-01  205.0  19492487660\n",
              "55200938 2022-01-01  237.0  19491373621\n",
              "17144057 2022-01-01   17.0  19485025779\n",
              "46410460 2022-01-01  340.0  19497349350"
            ],
            "text/html": [
              "\n",
              "  <div id=\"df-c100a26d-73ff-4ed2-90b0-a0a5276fdad6\">\n",
              "    <div class=\"colab-df-container\">\n",
              "      <div>\n",
              "<style scoped>\n",
              "    .dataframe tbody tr th:only-of-type {\n",
              "        vertical-align: middle;\n",
              "    }\n",
              "\n",
              "    .dataframe tbody tr th {\n",
              "        vertical-align: top;\n",
              "    }\n",
              "\n",
              "    .dataframe thead th {\n",
              "        text-align: right;\n",
              "    }\n",
              "</style>\n",
              "<table border=\"1\" class=\"dataframe\">\n",
              "  <thead>\n",
              "    <tr style=\"text-align: right;\">\n",
              "      <th></th>\n",
              "      <th>DATE</th>\n",
              "      <th>point</th>\n",
              "      <th>Order_id</th>\n",
              "    </tr>\n",
              "    <tr>\n",
              "      <th>User_id</th>\n",
              "      <th></th>\n",
              "      <th></th>\n",
              "      <th></th>\n",
              "    </tr>\n",
              "  </thead>\n",
              "  <tbody>\n",
              "    <tr>\n",
              "      <th>45715492</th>\n",
              "      <td>2022-01-01</td>\n",
              "      <td>41.4</td>\n",
              "      <td>19502954801</td>\n",
              "    </tr>\n",
              "    <tr>\n",
              "      <th>41720789</th>\n",
              "      <td>2022-01-01</td>\n",
              "      <td>205.0</td>\n",
              "      <td>19492487660</td>\n",
              "    </tr>\n",
              "    <tr>\n",
              "      <th>55200938</th>\n",
              "      <td>2022-01-01</td>\n",
              "      <td>237.0</td>\n",
              "      <td>19491373621</td>\n",
              "    </tr>\n",
              "    <tr>\n",
              "      <th>17144057</th>\n",
              "      <td>2022-01-01</td>\n",
              "      <td>17.0</td>\n",
              "      <td>19485025779</td>\n",
              "    </tr>\n",
              "    <tr>\n",
              "      <th>46410460</th>\n",
              "      <td>2022-01-01</td>\n",
              "      <td>340.0</td>\n",
              "      <td>19497349350</td>\n",
              "    </tr>\n",
              "  </tbody>\n",
              "</table>\n",
              "</div>\n",
              "      <button class=\"colab-df-convert\" onclick=\"convertToInteractive('df-c100a26d-73ff-4ed2-90b0-a0a5276fdad6')\"\n",
              "              title=\"Convert this dataframe to an interactive table.\"\n",
              "              style=\"display:none;\">\n",
              "        \n",
              "  <svg xmlns=\"http://www.w3.org/2000/svg\" height=\"24px\"viewBox=\"0 0 24 24\"\n",
              "       width=\"24px\">\n",
              "    <path d=\"M0 0h24v24H0V0z\" fill=\"none\"/>\n",
              "    <path d=\"M18.56 5.44l.94 2.06.94-2.06 2.06-.94-2.06-.94-.94-2.06-.94 2.06-2.06.94zm-11 1L8.5 8.5l.94-2.06 2.06-.94-2.06-.94L8.5 2.5l-.94 2.06-2.06.94zm10 10l.94 2.06.94-2.06 2.06-.94-2.06-.94-.94-2.06-.94 2.06-2.06.94z\"/><path d=\"M17.41 7.96l-1.37-1.37c-.4-.4-.92-.59-1.43-.59-.52 0-1.04.2-1.43.59L10.3 9.45l-7.72 7.72c-.78.78-.78 2.05 0 2.83L4 21.41c.39.39.9.59 1.41.59.51 0 1.02-.2 1.41-.59l7.78-7.78 2.81-2.81c.8-.78.8-2.07 0-2.86zM5.41 20L4 18.59l7.72-7.72 1.47 1.35L5.41 20z\"/>\n",
              "  </svg>\n",
              "      </button>\n",
              "      \n",
              "  <style>\n",
              "    .colab-df-container {\n",
              "      display:flex;\n",
              "      flex-wrap:wrap;\n",
              "      gap: 12px;\n",
              "    }\n",
              "\n",
              "    .colab-df-convert {\n",
              "      background-color: #E8F0FE;\n",
              "      border: none;\n",
              "      border-radius: 50%;\n",
              "      cursor: pointer;\n",
              "      display: none;\n",
              "      fill: #1967D2;\n",
              "      height: 32px;\n",
              "      padding: 0 0 0 0;\n",
              "      width: 32px;\n",
              "    }\n",
              "\n",
              "    .colab-df-convert:hover {\n",
              "      background-color: #E2EBFA;\n",
              "      box-shadow: 0px 1px 2px rgba(60, 64, 67, 0.3), 0px 1px 3px 1px rgba(60, 64, 67, 0.15);\n",
              "      fill: #174EA6;\n",
              "    }\n",
              "\n",
              "    [theme=dark] .colab-df-convert {\n",
              "      background-color: #3B4455;\n",
              "      fill: #D2E3FC;\n",
              "    }\n",
              "\n",
              "    [theme=dark] .colab-df-convert:hover {\n",
              "      background-color: #434B5C;\n",
              "      box-shadow: 0px 1px 3px 1px rgba(0, 0, 0, 0.15);\n",
              "      filter: drop-shadow(0px 1px 2px rgba(0, 0, 0, 0.3));\n",
              "      fill: #FFFFFF;\n",
              "    }\n",
              "  </style>\n",
              "\n",
              "      <script>\n",
              "        const buttonEl =\n",
              "          document.querySelector('#df-c100a26d-73ff-4ed2-90b0-a0a5276fdad6 button.colab-df-convert');\n",
              "        buttonEl.style.display =\n",
              "          google.colab.kernel.accessAllowed ? 'block' : 'none';\n",
              "\n",
              "        async function convertToInteractive(key) {\n",
              "          const element = document.querySelector('#df-c100a26d-73ff-4ed2-90b0-a0a5276fdad6');\n",
              "          const dataTable =\n",
              "            await google.colab.kernel.invokeFunction('convertToInteractive',\n",
              "                                                     [key], {});\n",
              "          if (!dataTable) return;\n",
              "\n",
              "          const docLinkHtml = 'Like what you see? Visit the ' +\n",
              "            '<a target=\"_blank\" href=https://colab.research.google.com/notebooks/data_table.ipynb>data table notebook</a>'\n",
              "            + ' to learn more about interactive tables.';\n",
              "          element.innerHTML = '';\n",
              "          dataTable['output_type'] = 'display_data';\n",
              "          await google.colab.output.renderOutput(dataTable, element);\n",
              "          const docLink = document.createElement('div');\n",
              "          docLink.innerHTML = docLinkHtml;\n",
              "          element.appendChild(docLink);\n",
              "        }\n",
              "      </script>\n",
              "    </div>\n",
              "  </div>\n",
              "  "
            ]
          },
          "metadata": {},
          "execution_count": 15
        }
      ]
    },
    {
      "cell_type": "markdown",
      "source": [
        "Create function that get cummulative total point for a unique user_id for respective datetime"
      ],
      "metadata": {
        "id": "Guj443VipBh6"
      }
    },
    {
      "cell_type": "code",
      "source": [
        "from collections import deque\n",
        "\n",
        "def get_cumsum_df(x_id):\n",
        "\n",
        "  #If the user_id have only one row, it'd return Series, and it'll mess up our final results DataFrame\n",
        "  #The idea is DataFrame the Series, and then transpose it to unify with other DataFrame results\n",
        "  if type(temp2.loc[x_id]) != pd.core.frame.DataFrame:\n",
        "    result = pd.DataFrame(temp2.loc[x_id]).T\n",
        "    result.reset_index(inplace=True)\n",
        "    result.rename(columns = {'point':'total_points', 'index': 'User_id'},inplace=True)\n",
        "    return result\n",
        "\n",
        "  #result Series to keeptrack cum_point\n",
        "  results = pd.Series([])\n",
        "\n",
        "  #queue to keeptrack start_date and its associated point \n",
        "  queue = deque()\n",
        "  #keeptrack the cum_sum \n",
        "  cum_sum = 0\n",
        "  sums = []\n",
        "  dates = []\n",
        "  user_id = []\n",
        "  orders = []\n",
        "  for index,row in temp2.loc[x_id].sort_values(by = ['DATE']).iterrows():\n",
        "    #get date and point\n",
        "    cur_date = row[0]\n",
        "    point = row[1]\n",
        "    order_id = row[2]\n",
        "\n",
        "    if queue: \n",
        "      trigger = False    \n",
        "      while not trigger and queue:\n",
        "        #get start_date and its point\n",
        "        start_date, temp_point = queue[0]\n",
        "        #check if it's expired(over 30days), if so, remove from the queue, and deduce cum_sum by the respective point \n",
        "        if cur_date - start_date > pd.to_timedelta('30D'):\n",
        "          queue.popleft()\n",
        "          cum_sum -= temp_point\n",
        "        #if it's not expired, we can escape from the loop\n",
        "        else: \n",
        "          trigger = True\n",
        "    \n",
        "    #append into queue\n",
        "    queue.append([cur_date, point])\n",
        "    #assign new cum_sum and add needed items into the stored array\n",
        "    cum_sum += point\n",
        "    sums.append(round(cum_sum,2))\n",
        "    dates.append(cur_date)\n",
        "    user_id.append(index)\n",
        "    orders.append(order_id)\n",
        "\n",
        "  #create a DF formed by zipping all the stored array together\n",
        "  results = pd.DataFrame(list(zip(user_id,dates,sums,orders)),columns = ['User_id','DATE','total_points','Order_id'])\n",
        "  return results\n"
      ],
      "metadata": {
        "id": "yzrN3VAlo6pg"
      },
      "execution_count": null,
      "outputs": []
    },
    {
      "cell_type": "markdown",
      "source": [
        "Get cummulative sum for each unique user_id, and add to the dataframe results"
      ],
      "metadata": {
        "id": "pRq5Q_NzpU_O"
      }
    },
    {
      "cell_type": "code",
      "source": [
        "#Loop through each unique user_id to find cummulative point sums for the last 30 days period for after each transaction been made\n",
        "temp_list = list(temp2.index.unique())\n",
        "#Create empty results\n",
        "results = pd.DataFrame(columns = ['User_id','DATE','total_points','Order_id'])\n",
        "for x_id in temp_list: \n",
        "  #Get cummulative points data frame from respective user_id\n",
        "  new_df = get_cumsum_df(x_id)\n",
        "  #Binding results to new returned dataframe\n",
        "  results = pd.concat([results,new_df],ignore_index=True)\n",
        "results.head()"
      ],
      "metadata": {
        "id": "WEb1-go56Lic"
      },
      "execution_count": null,
      "outputs": []
    },
    {
      "cell_type": "markdown",
      "source": [
        "Modify columns type into usable type and drop data, user_id for the ease of merging at next phase"
      ],
      "metadata": {
        "id": "_Bwexk6ccpqx"
      }
    },
    {
      "cell_type": "code",
      "source": [
        "# results['User_id'] = results['User_id'].astype(int)\n",
        "# results['total_points']= results['total_points'].astype(float)\n",
        "results['Order_id'] = results['Order_id'].astype(int)\n",
        "results.drop(['User_id','DATE'],axis=1, inplace=True)\n",
        "results.head()"
      ],
      "metadata": {
        "colab": {
          "base_uri": "https://localhost:8080/",
          "height": 206
        },
        "id": "9G8qCE_0pnol",
        "outputId": "c9f16946-0589-4f96-ab8e-64ef6516a5ed"
      },
      "execution_count": null,
      "outputs": [
        {
          "output_type": "execute_result",
          "data": {
            "text/plain": [
              "  total_points     Order_id\n",
              "0         41.4  19502954801\n",
              "1         52.9  19535986227\n",
              "2         62.2  19556757044\n",
              "3        106.0  19562251353\n",
              "4        376.8  19604931838"
            ],
            "text/html": [
              "\n",
              "  <div id=\"df-bfea9a9d-ff79-4518-9083-3cac042c3de5\">\n",
              "    <div class=\"colab-df-container\">\n",
              "      <div>\n",
              "<style scoped>\n",
              "    .dataframe tbody tr th:only-of-type {\n",
              "        vertical-align: middle;\n",
              "    }\n",
              "\n",
              "    .dataframe tbody tr th {\n",
              "        vertical-align: top;\n",
              "    }\n",
              "\n",
              "    .dataframe thead th {\n",
              "        text-align: right;\n",
              "    }\n",
              "</style>\n",
              "<table border=\"1\" class=\"dataframe\">\n",
              "  <thead>\n",
              "    <tr style=\"text-align: right;\">\n",
              "      <th></th>\n",
              "      <th>total_points</th>\n",
              "      <th>Order_id</th>\n",
              "    </tr>\n",
              "  </thead>\n",
              "  <tbody>\n",
              "    <tr>\n",
              "      <th>0</th>\n",
              "      <td>41.4</td>\n",
              "      <td>19502954801</td>\n",
              "    </tr>\n",
              "    <tr>\n",
              "      <th>1</th>\n",
              "      <td>52.9</td>\n",
              "      <td>19535986227</td>\n",
              "    </tr>\n",
              "    <tr>\n",
              "      <th>2</th>\n",
              "      <td>62.2</td>\n",
              "      <td>19556757044</td>\n",
              "    </tr>\n",
              "    <tr>\n",
              "      <th>3</th>\n",
              "      <td>106.0</td>\n",
              "      <td>19562251353</td>\n",
              "    </tr>\n",
              "    <tr>\n",
              "      <th>4</th>\n",
              "      <td>376.8</td>\n",
              "      <td>19604931838</td>\n",
              "    </tr>\n",
              "  </tbody>\n",
              "</table>\n",
              "</div>\n",
              "      <button class=\"colab-df-convert\" onclick=\"convertToInteractive('df-bfea9a9d-ff79-4518-9083-3cac042c3de5')\"\n",
              "              title=\"Convert this dataframe to an interactive table.\"\n",
              "              style=\"display:none;\">\n",
              "        \n",
              "  <svg xmlns=\"http://www.w3.org/2000/svg\" height=\"24px\"viewBox=\"0 0 24 24\"\n",
              "       width=\"24px\">\n",
              "    <path d=\"M0 0h24v24H0V0z\" fill=\"none\"/>\n",
              "    <path d=\"M18.56 5.44l.94 2.06.94-2.06 2.06-.94-2.06-.94-.94-2.06-.94 2.06-2.06.94zm-11 1L8.5 8.5l.94-2.06 2.06-.94-2.06-.94L8.5 2.5l-.94 2.06-2.06.94zm10 10l.94 2.06.94-2.06 2.06-.94-2.06-.94-.94-2.06-.94 2.06-2.06.94z\"/><path d=\"M17.41 7.96l-1.37-1.37c-.4-.4-.92-.59-1.43-.59-.52 0-1.04.2-1.43.59L10.3 9.45l-7.72 7.72c-.78.78-.78 2.05 0 2.83L4 21.41c.39.39.9.59 1.41.59.51 0 1.02-.2 1.41-.59l7.78-7.78 2.81-2.81c.8-.78.8-2.07 0-2.86zM5.41 20L4 18.59l7.72-7.72 1.47 1.35L5.41 20z\"/>\n",
              "  </svg>\n",
              "      </button>\n",
              "      \n",
              "  <style>\n",
              "    .colab-df-container {\n",
              "      display:flex;\n",
              "      flex-wrap:wrap;\n",
              "      gap: 12px;\n",
              "    }\n",
              "\n",
              "    .colab-df-convert {\n",
              "      background-color: #E8F0FE;\n",
              "      border: none;\n",
              "      border-radius: 50%;\n",
              "      cursor: pointer;\n",
              "      display: none;\n",
              "      fill: #1967D2;\n",
              "      height: 32px;\n",
              "      padding: 0 0 0 0;\n",
              "      width: 32px;\n",
              "    }\n",
              "\n",
              "    .colab-df-convert:hover {\n",
              "      background-color: #E2EBFA;\n",
              "      box-shadow: 0px 1px 2px rgba(60, 64, 67, 0.3), 0px 1px 3px 1px rgba(60, 64, 67, 0.15);\n",
              "      fill: #174EA6;\n",
              "    }\n",
              "\n",
              "    [theme=dark] .colab-df-convert {\n",
              "      background-color: #3B4455;\n",
              "      fill: #D2E3FC;\n",
              "    }\n",
              "\n",
              "    [theme=dark] .colab-df-convert:hover {\n",
              "      background-color: #434B5C;\n",
              "      box-shadow: 0px 1px 3px 1px rgba(0, 0, 0, 0.15);\n",
              "      filter: drop-shadow(0px 1px 2px rgba(0, 0, 0, 0.3));\n",
              "      fill: #FFFFFF;\n",
              "    }\n",
              "  </style>\n",
              "\n",
              "      <script>\n",
              "        const buttonEl =\n",
              "          document.querySelector('#df-bfea9a9d-ff79-4518-9083-3cac042c3de5 button.colab-df-convert');\n",
              "        buttonEl.style.display =\n",
              "          google.colab.kernel.accessAllowed ? 'block' : 'none';\n",
              "\n",
              "        async function convertToInteractive(key) {\n",
              "          const element = document.querySelector('#df-bfea9a9d-ff79-4518-9083-3cac042c3de5');\n",
              "          const dataTable =\n",
              "            await google.colab.kernel.invokeFunction('convertToInteractive',\n",
              "                                                     [key], {});\n",
              "          if (!dataTable) return;\n",
              "\n",
              "          const docLinkHtml = 'Like what you see? Visit the ' +\n",
              "            '<a target=\"_blank\" href=https://colab.research.google.com/notebooks/data_table.ipynb>data table notebook</a>'\n",
              "            + ' to learn more about interactive tables.';\n",
              "          element.innerHTML = '';\n",
              "          dataTable['output_type'] = 'display_data';\n",
              "          await google.colab.output.renderOutput(dataTable, element);\n",
              "          const docLink = document.createElement('div');\n",
              "          docLink.innerHTML = docLinkHtml;\n",
              "          element.appendChild(docLink);\n",
              "        }\n",
              "      </script>\n",
              "    </div>\n",
              "  </div>\n",
              "  "
            ]
          },
          "metadata": {},
          "execution_count": 18
        }
      ]
    },
    {
      "cell_type": "markdown",
      "source": [
        "- After get the total_points, merge the to new_trans on Order_id\n",
        "- We don't choose User_id and DATE to merge because rows will overlap and hence make our results incorrect"
      ],
      "metadata": {
        "id": "_7_FpNyuvz9g"
      }
    },
    {
      "cell_type": "code",
      "source": [
        "new_second_trans = pd.merge(new_trans,results,on=['Order_id'],how='left')\n",
        "new_second_trans.shape"
      ],
      "metadata": {
        "colab": {
          "base_uri": "https://localhost:8080/"
        },
        "id": "b6qi-YSOrRnX",
        "outputId": "7ce38016-2a38-4867-fa1c-2aebdabae858"
      },
      "execution_count": null,
      "outputs": [
        {
          "output_type": "execute_result",
          "data": {
            "text/plain": [
              "(18813, 9)"
            ]
          },
          "metadata": {},
          "execution_count": 19
        }
      ]
    },
    {
      "cell_type": "code",
      "source": [
        "new_second_trans.head()"
      ],
      "metadata": {
        "colab": {
          "base_uri": "https://localhost:8080/",
          "height": 206
        },
        "id": "PLiBTUQfRAmT",
        "outputId": "6249ad78-1a2a-4ee2-8f0f-13bb72d3f815"
      },
      "execution_count": null,
      "outputs": [
        {
          "output_type": "execute_result",
          "data": {
            "text/plain": [
              "        DATE     Order_id NEWVERTICAL_Merchant  MerchantID   User_id     GMV  \\\n",
              "0 2022-01-01  19502954801          Supermarket          25  45715492   41400   \n",
              "1 2022-01-01  19492487660                  CVS          28  41720789  205000   \n",
              "2 2022-01-01  19491373621                  CVS          28  55200938  237000   \n",
              "3 2022-01-01  19485025779                  CVS          28  17144057   17000   \n",
              "4 2022-01-01  19497349350          Marketplace          37  46410460  340000   \n",
              "\n",
              "  service_group  point total_points  \n",
              "0   supermarket   41.4         41.4  \n",
              "1           cvs  205.0        205.0  \n",
              "2           cvs  237.0        237.0  \n",
              "3           cvs   17.0         17.0  \n",
              "4   marketplace  340.0        340.0  "
            ],
            "text/html": [
              "\n",
              "  <div id=\"df-01aefaab-b6b3-4cd4-827d-b7dfe26a982e\">\n",
              "    <div class=\"colab-df-container\">\n",
              "      <div>\n",
              "<style scoped>\n",
              "    .dataframe tbody tr th:only-of-type {\n",
              "        vertical-align: middle;\n",
              "    }\n",
              "\n",
              "    .dataframe tbody tr th {\n",
              "        vertical-align: top;\n",
              "    }\n",
              "\n",
              "    .dataframe thead th {\n",
              "        text-align: right;\n",
              "    }\n",
              "</style>\n",
              "<table border=\"1\" class=\"dataframe\">\n",
              "  <thead>\n",
              "    <tr style=\"text-align: right;\">\n",
              "      <th></th>\n",
              "      <th>DATE</th>\n",
              "      <th>Order_id</th>\n",
              "      <th>NEWVERTICAL_Merchant</th>\n",
              "      <th>MerchantID</th>\n",
              "      <th>User_id</th>\n",
              "      <th>GMV</th>\n",
              "      <th>service_group</th>\n",
              "      <th>point</th>\n",
              "      <th>total_points</th>\n",
              "    </tr>\n",
              "  </thead>\n",
              "  <tbody>\n",
              "    <tr>\n",
              "      <th>0</th>\n",
              "      <td>2022-01-01</td>\n",
              "      <td>19502954801</td>\n",
              "      <td>Supermarket</td>\n",
              "      <td>25</td>\n",
              "      <td>45715492</td>\n",
              "      <td>41400</td>\n",
              "      <td>supermarket</td>\n",
              "      <td>41.4</td>\n",
              "      <td>41.4</td>\n",
              "    </tr>\n",
              "    <tr>\n",
              "      <th>1</th>\n",
              "      <td>2022-01-01</td>\n",
              "      <td>19492487660</td>\n",
              "      <td>CVS</td>\n",
              "      <td>28</td>\n",
              "      <td>41720789</td>\n",
              "      <td>205000</td>\n",
              "      <td>cvs</td>\n",
              "      <td>205.0</td>\n",
              "      <td>205.0</td>\n",
              "    </tr>\n",
              "    <tr>\n",
              "      <th>2</th>\n",
              "      <td>2022-01-01</td>\n",
              "      <td>19491373621</td>\n",
              "      <td>CVS</td>\n",
              "      <td>28</td>\n",
              "      <td>55200938</td>\n",
              "      <td>237000</td>\n",
              "      <td>cvs</td>\n",
              "      <td>237.0</td>\n",
              "      <td>237.0</td>\n",
              "    </tr>\n",
              "    <tr>\n",
              "      <th>3</th>\n",
              "      <td>2022-01-01</td>\n",
              "      <td>19485025779</td>\n",
              "      <td>CVS</td>\n",
              "      <td>28</td>\n",
              "      <td>17144057</td>\n",
              "      <td>17000</td>\n",
              "      <td>cvs</td>\n",
              "      <td>17.0</td>\n",
              "      <td>17.0</td>\n",
              "    </tr>\n",
              "    <tr>\n",
              "      <th>4</th>\n",
              "      <td>2022-01-01</td>\n",
              "      <td>19497349350</td>\n",
              "      <td>Marketplace</td>\n",
              "      <td>37</td>\n",
              "      <td>46410460</td>\n",
              "      <td>340000</td>\n",
              "      <td>marketplace</td>\n",
              "      <td>340.0</td>\n",
              "      <td>340.0</td>\n",
              "    </tr>\n",
              "  </tbody>\n",
              "</table>\n",
              "</div>\n",
              "      <button class=\"colab-df-convert\" onclick=\"convertToInteractive('df-01aefaab-b6b3-4cd4-827d-b7dfe26a982e')\"\n",
              "              title=\"Convert this dataframe to an interactive table.\"\n",
              "              style=\"display:none;\">\n",
              "        \n",
              "  <svg xmlns=\"http://www.w3.org/2000/svg\" height=\"24px\"viewBox=\"0 0 24 24\"\n",
              "       width=\"24px\">\n",
              "    <path d=\"M0 0h24v24H0V0z\" fill=\"none\"/>\n",
              "    <path d=\"M18.56 5.44l.94 2.06.94-2.06 2.06-.94-2.06-.94-.94-2.06-.94 2.06-2.06.94zm-11 1L8.5 8.5l.94-2.06 2.06-.94-2.06-.94L8.5 2.5l-.94 2.06-2.06.94zm10 10l.94 2.06.94-2.06 2.06-.94-2.06-.94-.94-2.06-.94 2.06-2.06.94z\"/><path d=\"M17.41 7.96l-1.37-1.37c-.4-.4-.92-.59-1.43-.59-.52 0-1.04.2-1.43.59L10.3 9.45l-7.72 7.72c-.78.78-.78 2.05 0 2.83L4 21.41c.39.39.9.59 1.41.59.51 0 1.02-.2 1.41-.59l7.78-7.78 2.81-2.81c.8-.78.8-2.07 0-2.86zM5.41 20L4 18.59l7.72-7.72 1.47 1.35L5.41 20z\"/>\n",
              "  </svg>\n",
              "      </button>\n",
              "      \n",
              "  <style>\n",
              "    .colab-df-container {\n",
              "      display:flex;\n",
              "      flex-wrap:wrap;\n",
              "      gap: 12px;\n",
              "    }\n",
              "\n",
              "    .colab-df-convert {\n",
              "      background-color: #E8F0FE;\n",
              "      border: none;\n",
              "      border-radius: 50%;\n",
              "      cursor: pointer;\n",
              "      display: none;\n",
              "      fill: #1967D2;\n",
              "      height: 32px;\n",
              "      padding: 0 0 0 0;\n",
              "      width: 32px;\n",
              "    }\n",
              "\n",
              "    .colab-df-convert:hover {\n",
              "      background-color: #E2EBFA;\n",
              "      box-shadow: 0px 1px 2px rgba(60, 64, 67, 0.3), 0px 1px 3px 1px rgba(60, 64, 67, 0.15);\n",
              "      fill: #174EA6;\n",
              "    }\n",
              "\n",
              "    [theme=dark] .colab-df-convert {\n",
              "      background-color: #3B4455;\n",
              "      fill: #D2E3FC;\n",
              "    }\n",
              "\n",
              "    [theme=dark] .colab-df-convert:hover {\n",
              "      background-color: #434B5C;\n",
              "      box-shadow: 0px 1px 3px 1px rgba(0, 0, 0, 0.15);\n",
              "      filter: drop-shadow(0px 1px 2px rgba(0, 0, 0, 0.3));\n",
              "      fill: #FFFFFF;\n",
              "    }\n",
              "  </style>\n",
              "\n",
              "      <script>\n",
              "        const buttonEl =\n",
              "          document.querySelector('#df-01aefaab-b6b3-4cd4-827d-b7dfe26a982e button.colab-df-convert');\n",
              "        buttonEl.style.display =\n",
              "          google.colab.kernel.accessAllowed ? 'block' : 'none';\n",
              "\n",
              "        async function convertToInteractive(key) {\n",
              "          const element = document.querySelector('#df-01aefaab-b6b3-4cd4-827d-b7dfe26a982e');\n",
              "          const dataTable =\n",
              "            await google.colab.kernel.invokeFunction('convertToInteractive',\n",
              "                                                     [key], {});\n",
              "          if (!dataTable) return;\n",
              "\n",
              "          const docLinkHtml = 'Like what you see? Visit the ' +\n",
              "            '<a target=\"_blank\" href=https://colab.research.google.com/notebooks/data_table.ipynb>data table notebook</a>'\n",
              "            + ' to learn more about interactive tables.';\n",
              "          element.innerHTML = '';\n",
              "          dataTable['output_type'] = 'display_data';\n",
              "          await google.colab.output.renderOutput(dataTable, element);\n",
              "          const docLink = document.createElement('div');\n",
              "          docLink.innerHTML = docLinkHtml;\n",
              "          element.appendChild(docLink);\n",
              "        }\n",
              "      </script>\n",
              "    </div>\n",
              "  </div>\n",
              "  "
            ]
          },
          "metadata": {},
          "execution_count": 20
        }
      ]
    },
    {
      "cell_type": "markdown",
      "source": [
        "Add rank name table based on points and classid"
      ],
      "metadata": {
        "id": "_i1D5UX9VBOD"
      }
    },
    {
      "cell_type": "code",
      "source": [
        "#convert to classid from GMV point\n",
        "def to_classid(point):\n",
        "  if point < 1000:\n",
        "    return 1\n",
        "  elif point < 2000:\n",
        "    return 2\n",
        "  elif point < 5000:\n",
        "    return 3\n",
        "  else:\n",
        "    return 4\n",
        "#Convert to rank from id\n",
        "def to_rank(classid):\n",
        "  if classid == 1:\n",
        "    return 'STANDARD'\n",
        "  elif classid == 2:\n",
        "    return 'SILVER'\n",
        "  elif classid == 3:\n",
        "    return 'GOLD'\n",
        "  elif classid == 4:\n",
        "    return 'DIAMOND'\n",
        "  return "
      ],
      "metadata": {
        "id": "bZ4Rz2CCxzBR"
      },
      "execution_count": null,
      "outputs": []
    },
    {
      "cell_type": "code",
      "source": [
        "new_second_trans['total_points'] = new_second_trans['total_points'].astype(float)\n",
        "new_trans['loyalty_points'] = new_second_trans['total_points']\n",
        "new_trans['rank_name'] = new_trans['loyalty_points'].apply(lambda x: to_classid(x)).apply(lambda x: to_rank(x))\n",
        "new_trans.head()"
      ],
      "metadata": {
        "colab": {
          "base_uri": "https://localhost:8080/",
          "height": 206
        },
        "id": "oAcds2YhG-_i",
        "outputId": "2e8e1bf4-b01b-4cf6-93fd-7134eb05f2ea"
      },
      "execution_count": null,
      "outputs": [
        {
          "output_type": "execute_result",
          "data": {
            "text/plain": [
              "        DATE     Order_id NEWVERTICAL_Merchant  MerchantID   User_id     GMV  \\\n",
              "0 2022-01-01  19502954801          Supermarket          25  45715492   41400   \n",
              "1 2022-01-01  19492487660                  CVS          28  41720789  205000   \n",
              "2 2022-01-01  19491373621                  CVS          28  55200938  237000   \n",
              "3 2022-01-01  19485025779                  CVS          28  17144057   17000   \n",
              "4 2022-01-01  19497349350          Marketplace          37  46410460  340000   \n",
              "\n",
              "  service_group  point  loyalty_points rank_name  \n",
              "0   supermarket   41.4            41.4  STANDARD  \n",
              "1           cvs  205.0           205.0  STANDARD  \n",
              "2           cvs  237.0           237.0  STANDARD  \n",
              "3           cvs   17.0            17.0  STANDARD  \n",
              "4   marketplace  340.0           340.0  STANDARD  "
            ],
            "text/html": [
              "\n",
              "  <div id=\"df-3f86fad2-9dad-4baa-9177-9b9038fd87ac\">\n",
              "    <div class=\"colab-df-container\">\n",
              "      <div>\n",
              "<style scoped>\n",
              "    .dataframe tbody tr th:only-of-type {\n",
              "        vertical-align: middle;\n",
              "    }\n",
              "\n",
              "    .dataframe tbody tr th {\n",
              "        vertical-align: top;\n",
              "    }\n",
              "\n",
              "    .dataframe thead th {\n",
              "        text-align: right;\n",
              "    }\n",
              "</style>\n",
              "<table border=\"1\" class=\"dataframe\">\n",
              "  <thead>\n",
              "    <tr style=\"text-align: right;\">\n",
              "      <th></th>\n",
              "      <th>DATE</th>\n",
              "      <th>Order_id</th>\n",
              "      <th>NEWVERTICAL_Merchant</th>\n",
              "      <th>MerchantID</th>\n",
              "      <th>User_id</th>\n",
              "      <th>GMV</th>\n",
              "      <th>service_group</th>\n",
              "      <th>point</th>\n",
              "      <th>loyalty_points</th>\n",
              "      <th>rank_name</th>\n",
              "    </tr>\n",
              "  </thead>\n",
              "  <tbody>\n",
              "    <tr>\n",
              "      <th>0</th>\n",
              "      <td>2022-01-01</td>\n",
              "      <td>19502954801</td>\n",
              "      <td>Supermarket</td>\n",
              "      <td>25</td>\n",
              "      <td>45715492</td>\n",
              "      <td>41400</td>\n",
              "      <td>supermarket</td>\n",
              "      <td>41.4</td>\n",
              "      <td>41.4</td>\n",
              "      <td>STANDARD</td>\n",
              "    </tr>\n",
              "    <tr>\n",
              "      <th>1</th>\n",
              "      <td>2022-01-01</td>\n",
              "      <td>19492487660</td>\n",
              "      <td>CVS</td>\n",
              "      <td>28</td>\n",
              "      <td>41720789</td>\n",
              "      <td>205000</td>\n",
              "      <td>cvs</td>\n",
              "      <td>205.0</td>\n",
              "      <td>205.0</td>\n",
              "      <td>STANDARD</td>\n",
              "    </tr>\n",
              "    <tr>\n",
              "      <th>2</th>\n",
              "      <td>2022-01-01</td>\n",
              "      <td>19491373621</td>\n",
              "      <td>CVS</td>\n",
              "      <td>28</td>\n",
              "      <td>55200938</td>\n",
              "      <td>237000</td>\n",
              "      <td>cvs</td>\n",
              "      <td>237.0</td>\n",
              "      <td>237.0</td>\n",
              "      <td>STANDARD</td>\n",
              "    </tr>\n",
              "    <tr>\n",
              "      <th>3</th>\n",
              "      <td>2022-01-01</td>\n",
              "      <td>19485025779</td>\n",
              "      <td>CVS</td>\n",
              "      <td>28</td>\n",
              "      <td>17144057</td>\n",
              "      <td>17000</td>\n",
              "      <td>cvs</td>\n",
              "      <td>17.0</td>\n",
              "      <td>17.0</td>\n",
              "      <td>STANDARD</td>\n",
              "    </tr>\n",
              "    <tr>\n",
              "      <th>4</th>\n",
              "      <td>2022-01-01</td>\n",
              "      <td>19497349350</td>\n",
              "      <td>Marketplace</td>\n",
              "      <td>37</td>\n",
              "      <td>46410460</td>\n",
              "      <td>340000</td>\n",
              "      <td>marketplace</td>\n",
              "      <td>340.0</td>\n",
              "      <td>340.0</td>\n",
              "      <td>STANDARD</td>\n",
              "    </tr>\n",
              "  </tbody>\n",
              "</table>\n",
              "</div>\n",
              "      <button class=\"colab-df-convert\" onclick=\"convertToInteractive('df-3f86fad2-9dad-4baa-9177-9b9038fd87ac')\"\n",
              "              title=\"Convert this dataframe to an interactive table.\"\n",
              "              style=\"display:none;\">\n",
              "        \n",
              "  <svg xmlns=\"http://www.w3.org/2000/svg\" height=\"24px\"viewBox=\"0 0 24 24\"\n",
              "       width=\"24px\">\n",
              "    <path d=\"M0 0h24v24H0V0z\" fill=\"none\"/>\n",
              "    <path d=\"M18.56 5.44l.94 2.06.94-2.06 2.06-.94-2.06-.94-.94-2.06-.94 2.06-2.06.94zm-11 1L8.5 8.5l.94-2.06 2.06-.94-2.06-.94L8.5 2.5l-.94 2.06-2.06.94zm10 10l.94 2.06.94-2.06 2.06-.94-2.06-.94-.94-2.06-.94 2.06-2.06.94z\"/><path d=\"M17.41 7.96l-1.37-1.37c-.4-.4-.92-.59-1.43-.59-.52 0-1.04.2-1.43.59L10.3 9.45l-7.72 7.72c-.78.78-.78 2.05 0 2.83L4 21.41c.39.39.9.59 1.41.59.51 0 1.02-.2 1.41-.59l7.78-7.78 2.81-2.81c.8-.78.8-2.07 0-2.86zM5.41 20L4 18.59l7.72-7.72 1.47 1.35L5.41 20z\"/>\n",
              "  </svg>\n",
              "      </button>\n",
              "      \n",
              "  <style>\n",
              "    .colab-df-container {\n",
              "      display:flex;\n",
              "      flex-wrap:wrap;\n",
              "      gap: 12px;\n",
              "    }\n",
              "\n",
              "    .colab-df-convert {\n",
              "      background-color: #E8F0FE;\n",
              "      border: none;\n",
              "      border-radius: 50%;\n",
              "      cursor: pointer;\n",
              "      display: none;\n",
              "      fill: #1967D2;\n",
              "      height: 32px;\n",
              "      padding: 0 0 0 0;\n",
              "      width: 32px;\n",
              "    }\n",
              "\n",
              "    .colab-df-convert:hover {\n",
              "      background-color: #E2EBFA;\n",
              "      box-shadow: 0px 1px 2px rgba(60, 64, 67, 0.3), 0px 1px 3px 1px rgba(60, 64, 67, 0.15);\n",
              "      fill: #174EA6;\n",
              "    }\n",
              "\n",
              "    [theme=dark] .colab-df-convert {\n",
              "      background-color: #3B4455;\n",
              "      fill: #D2E3FC;\n",
              "    }\n",
              "\n",
              "    [theme=dark] .colab-df-convert:hover {\n",
              "      background-color: #434B5C;\n",
              "      box-shadow: 0px 1px 3px 1px rgba(0, 0, 0, 0.15);\n",
              "      filter: drop-shadow(0px 1px 2px rgba(0, 0, 0, 0.3));\n",
              "      fill: #FFFFFF;\n",
              "    }\n",
              "  </style>\n",
              "\n",
              "      <script>\n",
              "        const buttonEl =\n",
              "          document.querySelector('#df-3f86fad2-9dad-4baa-9177-9b9038fd87ac button.colab-df-convert');\n",
              "        buttonEl.style.display =\n",
              "          google.colab.kernel.accessAllowed ? 'block' : 'none';\n",
              "\n",
              "        async function convertToInteractive(key) {\n",
              "          const element = document.querySelector('#df-3f86fad2-9dad-4baa-9177-9b9038fd87ac');\n",
              "          const dataTable =\n",
              "            await google.colab.kernel.invokeFunction('convertToInteractive',\n",
              "                                                     [key], {});\n",
              "          if (!dataTable) return;\n",
              "\n",
              "          const docLinkHtml = 'Like what you see? Visit the ' +\n",
              "            '<a target=\"_blank\" href=https://colab.research.google.com/notebooks/data_table.ipynb>data table notebook</a>'\n",
              "            + ' to learn more about interactive tables.';\n",
              "          element.innerHTML = '';\n",
              "          dataTable['output_type'] = 'display_data';\n",
              "          await google.colab.output.renderOutput(dataTable, element);\n",
              "          const docLink = document.createElement('div');\n",
              "          docLink.innerHTML = docLinkHtml;\n",
              "          element.appendChild(docLink);\n",
              "        }\n",
              "      </script>\n",
              "    </div>\n",
              "  </div>\n",
              "  "
            ]
          },
          "metadata": {},
          "execution_count": 22
        }
      ]
    },
    {
      "cell_type": "code",
      "source": [
        "added_cols = ['DATE','User_id','loyalty_points','rank_name']\n",
        "loyalty_ranking = new_trans[added_cols]\n",
        "loyalty_ranking.head()"
      ],
      "metadata": {
        "colab": {
          "base_uri": "https://localhost:8080/",
          "height": 206
        },
        "id": "Oq2k7_-apTmz",
        "outputId": "f9cf6cfb-4c63-4bf2-fd53-96f0ce0e14b5"
      },
      "execution_count": null,
      "outputs": [
        {
          "output_type": "execute_result",
          "data": {
            "text/plain": [
              "        DATE   User_id  loyalty_points rank_name\n",
              "0 2022-01-01  45715492            41.4  STANDARD\n",
              "1 2022-01-01  41720789           205.0  STANDARD\n",
              "2 2022-01-01  55200938           237.0  STANDARD\n",
              "3 2022-01-01  17144057            17.0  STANDARD\n",
              "4 2022-01-01  46410460           340.0  STANDARD"
            ],
            "text/html": [
              "\n",
              "  <div id=\"df-2892d69c-2c8a-4228-a567-adadb1720f57\">\n",
              "    <div class=\"colab-df-container\">\n",
              "      <div>\n",
              "<style scoped>\n",
              "    .dataframe tbody tr th:only-of-type {\n",
              "        vertical-align: middle;\n",
              "    }\n",
              "\n",
              "    .dataframe tbody tr th {\n",
              "        vertical-align: top;\n",
              "    }\n",
              "\n",
              "    .dataframe thead th {\n",
              "        text-align: right;\n",
              "    }\n",
              "</style>\n",
              "<table border=\"1\" class=\"dataframe\">\n",
              "  <thead>\n",
              "    <tr style=\"text-align: right;\">\n",
              "      <th></th>\n",
              "      <th>DATE</th>\n",
              "      <th>User_id</th>\n",
              "      <th>loyalty_points</th>\n",
              "      <th>rank_name</th>\n",
              "    </tr>\n",
              "  </thead>\n",
              "  <tbody>\n",
              "    <tr>\n",
              "      <th>0</th>\n",
              "      <td>2022-01-01</td>\n",
              "      <td>45715492</td>\n",
              "      <td>41.4</td>\n",
              "      <td>STANDARD</td>\n",
              "    </tr>\n",
              "    <tr>\n",
              "      <th>1</th>\n",
              "      <td>2022-01-01</td>\n",
              "      <td>41720789</td>\n",
              "      <td>205.0</td>\n",
              "      <td>STANDARD</td>\n",
              "    </tr>\n",
              "    <tr>\n",
              "      <th>2</th>\n",
              "      <td>2022-01-01</td>\n",
              "      <td>55200938</td>\n",
              "      <td>237.0</td>\n",
              "      <td>STANDARD</td>\n",
              "    </tr>\n",
              "    <tr>\n",
              "      <th>3</th>\n",
              "      <td>2022-01-01</td>\n",
              "      <td>17144057</td>\n",
              "      <td>17.0</td>\n",
              "      <td>STANDARD</td>\n",
              "    </tr>\n",
              "    <tr>\n",
              "      <th>4</th>\n",
              "      <td>2022-01-01</td>\n",
              "      <td>46410460</td>\n",
              "      <td>340.0</td>\n",
              "      <td>STANDARD</td>\n",
              "    </tr>\n",
              "  </tbody>\n",
              "</table>\n",
              "</div>\n",
              "      <button class=\"colab-df-convert\" onclick=\"convertToInteractive('df-2892d69c-2c8a-4228-a567-adadb1720f57')\"\n",
              "              title=\"Convert this dataframe to an interactive table.\"\n",
              "              style=\"display:none;\">\n",
              "        \n",
              "  <svg xmlns=\"http://www.w3.org/2000/svg\" height=\"24px\"viewBox=\"0 0 24 24\"\n",
              "       width=\"24px\">\n",
              "    <path d=\"M0 0h24v24H0V0z\" fill=\"none\"/>\n",
              "    <path d=\"M18.56 5.44l.94 2.06.94-2.06 2.06-.94-2.06-.94-.94-2.06-.94 2.06-2.06.94zm-11 1L8.5 8.5l.94-2.06 2.06-.94-2.06-.94L8.5 2.5l-.94 2.06-2.06.94zm10 10l.94 2.06.94-2.06 2.06-.94-2.06-.94-.94-2.06-.94 2.06-2.06.94z\"/><path d=\"M17.41 7.96l-1.37-1.37c-.4-.4-.92-.59-1.43-.59-.52 0-1.04.2-1.43.59L10.3 9.45l-7.72 7.72c-.78.78-.78 2.05 0 2.83L4 21.41c.39.39.9.59 1.41.59.51 0 1.02-.2 1.41-.59l7.78-7.78 2.81-2.81c.8-.78.8-2.07 0-2.86zM5.41 20L4 18.59l7.72-7.72 1.47 1.35L5.41 20z\"/>\n",
              "  </svg>\n",
              "      </button>\n",
              "      \n",
              "  <style>\n",
              "    .colab-df-container {\n",
              "      display:flex;\n",
              "      flex-wrap:wrap;\n",
              "      gap: 12px;\n",
              "    }\n",
              "\n",
              "    .colab-df-convert {\n",
              "      background-color: #E8F0FE;\n",
              "      border: none;\n",
              "      border-radius: 50%;\n",
              "      cursor: pointer;\n",
              "      display: none;\n",
              "      fill: #1967D2;\n",
              "      height: 32px;\n",
              "      padding: 0 0 0 0;\n",
              "      width: 32px;\n",
              "    }\n",
              "\n",
              "    .colab-df-convert:hover {\n",
              "      background-color: #E2EBFA;\n",
              "      box-shadow: 0px 1px 2px rgba(60, 64, 67, 0.3), 0px 1px 3px 1px rgba(60, 64, 67, 0.15);\n",
              "      fill: #174EA6;\n",
              "    }\n",
              "\n",
              "    [theme=dark] .colab-df-convert {\n",
              "      background-color: #3B4455;\n",
              "      fill: #D2E3FC;\n",
              "    }\n",
              "\n",
              "    [theme=dark] .colab-df-convert:hover {\n",
              "      background-color: #434B5C;\n",
              "      box-shadow: 0px 1px 3px 1px rgba(0, 0, 0, 0.15);\n",
              "      filter: drop-shadow(0px 1px 2px rgba(0, 0, 0, 0.3));\n",
              "      fill: #FFFFFF;\n",
              "    }\n",
              "  </style>\n",
              "\n",
              "      <script>\n",
              "        const buttonEl =\n",
              "          document.querySelector('#df-2892d69c-2c8a-4228-a567-adadb1720f57 button.colab-df-convert');\n",
              "        buttonEl.style.display =\n",
              "          google.colab.kernel.accessAllowed ? 'block' : 'none';\n",
              "\n",
              "        async function convertToInteractive(key) {\n",
              "          const element = document.querySelector('#df-2892d69c-2c8a-4228-a567-adadb1720f57');\n",
              "          const dataTable =\n",
              "            await google.colab.kernel.invokeFunction('convertToInteractive',\n",
              "                                                     [key], {});\n",
              "          if (!dataTable) return;\n",
              "\n",
              "          const docLinkHtml = 'Like what you see? Visit the ' +\n",
              "            '<a target=\"_blank\" href=https://colab.research.google.com/notebooks/data_table.ipynb>data table notebook</a>'\n",
              "            + ' to learn more about interactive tables.';\n",
              "          element.innerHTML = '';\n",
              "          dataTable['output_type'] = 'display_data';\n",
              "          await google.colab.output.renderOutput(dataTable, element);\n",
              "          const docLink = document.createElement('div');\n",
              "          docLink.innerHTML = docLinkHtml;\n",
              "          element.appendChild(docLink);\n",
              "        }\n",
              "      </script>\n",
              "    </div>\n",
              "  </div>\n",
              "  "
            ]
          },
          "metadata": {},
          "execution_count": 23
        }
      ]
    },
    {
      "cell_type": "markdown",
      "source": [
        "**At the end of Mar 2022, the number of user achived rank Gold is**"
      ],
      "metadata": {
        "id": "WfellKZSiyf3"
      }
    },
    {
      "cell_type": "code",
      "source": [
        "loyalty_ranking.groupby('rank_name').User_id.nunique().GOLD"
      ],
      "metadata": {
        "colab": {
          "base_uri": "https://localhost:8080/"
        },
        "id": "RacQCCYdMC2B",
        "outputId": "178735e3-54bf-42cc-c3c6-712dab5fceb2"
      },
      "execution_count": null,
      "outputs": [
        {
          "output_type": "execute_result",
          "data": {
            "text/plain": [
              "215"
            ]
          },
          "metadata": {},
          "execution_count": 24
        }
      ]
    },
    {
      "cell_type": "code",
      "source": [
        "loyalty_ranking.groupby('rank_name').User_id.nunique().plot(kind ='bar', figsize=(16,9), grid=True, title = 'Ranking', rot = 45)"
      ],
      "metadata": {
        "colab": {
          "base_uri": "https://localhost:8080/",
          "height": 621
        },
        "id": "2iLwWs3ce9fJ",
        "outputId": "2a54ddeb-ddf1-4a31-ddf2-5a9079e05192"
      },
      "execution_count": null,
      "outputs": [
        {
          "output_type": "execute_result",
          "data": {
            "text/plain": [
              "<matplotlib.axes._subplots.AxesSubplot at 0x7f2463b26910>"
            ]
          },
          "metadata": {},
          "execution_count": 25
        },
        {
          "output_type": "display_data",
          "data": {
            "text/plain": [
              "<Figure size 1152x648 with 1 Axes>"
            ],
            "image/png": "[encoded data removed]"
          },
          "metadata": {
            "needs_background": "light"
          }
        }
      ]
    },
    {
      "cell_type": "markdown",
      "source": [
        "______________________________________________________________________________"
      ],
      "metadata": {
        "id": "t4hMuW7-GzUF"
      }
    },
    {
      "cell_type": "markdown",
      "source": [
        "2/ Combined with the 'Loyalty benefits' table and 'Loyalty Ranking' table, add columns '%cashback'  in 'Transactions' table and calculate the total cashback cost in February 2022.\t\t\t\t\t\t\t\t\n",
        "\"* Note: \n",
        "- Cashback cost can be calculated by multiplying %cashback with GMV\n",
        "- User can only claim maximum of 10,000 VND per transaction\"\t\t\t\t\t\t\t\t"
      ],
      "metadata": {
        "id": "E8DyrD-GjPrj"
      }
    },
    {
      "cell_type": "markdown",
      "source": [
        "Merge to get the class ID for the new_trans table"
      ],
      "metadata": {
        "id": "gDsBzX1oyugn"
      }
    },
    {
      "cell_type": "code",
      "source": [
        "new_trans = pd.merge(new_trans,rules[['classID','rank_name']],on='rank_name', how='left')\n",
        "benefits.rename(columns = {'Class ID': 'classID','Group':'service_group'},inplace=True)"
      ],
      "metadata": {
        "id": "5CljGNSV26P3"
      },
      "execution_count": null,
      "outputs": []
    },
    {
      "cell_type": "markdown",
      "source": [
        "- create a temp table by combining with new_trans and benefits to get the **%cashback** \n",
        "- modify cashback column name for the ease of query"
      ],
      "metadata": {
        "id": "mwXCxI7cAv6G"
      }
    },
    {
      "cell_type": "code",
      "source": [
        "temp = pd.merge(new_trans,benefits,on=['classID','service_group'],how='left')\n",
        "temp.rename(columns = {'%cashback':'cashback_per'},inplace=True)\n",
        "temp.head()"
      ],
      "metadata": {
        "colab": {
          "base_uri": "https://localhost:8080/",
          "height": 206
        },
        "id": "nEnmGNpx81Lb",
        "outputId": "41aa4c25-da6c-4f0a-af69-46de5774fbd0"
      },
      "execution_count": null,
      "outputs": [
        {
          "output_type": "execute_result",
          "data": {
            "text/plain": [
              "        DATE     Order_id NEWVERTICAL_Merchant  MerchantID   User_id     GMV  \\\n",
              "0 2022-01-01  19502954801          Supermarket          25  45715492   41400   \n",
              "1 2022-01-01  19492487660                  CVS          28  41720789  205000   \n",
              "2 2022-01-01  19491373621                  CVS          28  55200938  237000   \n",
              "3 2022-01-01  19485025779                  CVS          28  17144057   17000   \n",
              "4 2022-01-01  19497349350          Marketplace          37  46410460  340000   \n",
              "\n",
              "  service_group  point  loyalty_points rank_name  classID  cashback_per  \n",
              "0   supermarket   41.4            41.4  STANDARD        1           NaN  \n",
              "1           cvs  205.0           205.0  STANDARD        1           NaN  \n",
              "2           cvs  237.0           237.0  STANDARD        1           NaN  \n",
              "3           cvs   17.0            17.0  STANDARD        1           NaN  \n",
              "4   marketplace  340.0           340.0  STANDARD        1           NaN  "
            ],
            "text/html": [
              "\n",
              "  <div id=\"df-d1a97083-fd7c-4960-b6e1-2d38deadc3c2\">\n",
              "    <div class=\"colab-df-container\">\n",
              "      <div>\n",
              "<style scoped>\n",
              "    .dataframe tbody tr th:only-of-type {\n",
              "        vertical-align: middle;\n",
              "    }\n",
              "\n",
              "    .dataframe tbody tr th {\n",
              "        vertical-align: top;\n",
              "    }\n",
              "\n",
              "    .dataframe thead th {\n",
              "        text-align: right;\n",
              "    }\n",
              "</style>\n",
              "<table border=\"1\" class=\"dataframe\">\n",
              "  <thead>\n",
              "    <tr style=\"text-align: right;\">\n",
              "      <th></th>\n",
              "      <th>DATE</th>\n",
              "      <th>Order_id</th>\n",
              "      <th>NEWVERTICAL_Merchant</th>\n",
              "      <th>MerchantID</th>\n",
              "      <th>User_id</th>\n",
              "      <th>GMV</th>\n",
              "      <th>service_group</th>\n",
              "      <th>point</th>\n",
              "      <th>loyalty_points</th>\n",
              "      <th>rank_name</th>\n",
              "      <th>classID</th>\n",
              "      <th>cashback_per</th>\n",
              "    </tr>\n",
              "  </thead>\n",
              "  <tbody>\n",
              "    <tr>\n",
              "      <th>0</th>\n",
              "      <td>2022-01-01</td>\n",
              "      <td>19502954801</td>\n",
              "      <td>Supermarket</td>\n",
              "      <td>25</td>\n",
              "      <td>45715492</td>\n",
              "      <td>41400</td>\n",
              "      <td>supermarket</td>\n",
              "      <td>41.4</td>\n",
              "      <td>41.4</td>\n",
              "      <td>STANDARD</td>\n",
              "      <td>1</td>\n",
              "      <td>NaN</td>\n",
              "    </tr>\n",
              "    <tr>\n",
              "      <th>1</th>\n",
              "      <td>2022-01-01</td>\n",
              "      <td>19492487660</td>\n",
              "      <td>CVS</td>\n",
              "      <td>28</td>\n",
              "      <td>41720789</td>\n",
              "      <td>205000</td>\n",
              "      <td>cvs</td>\n",
              "      <td>205.0</td>\n",
              "      <td>205.0</td>\n",
              "      <td>STANDARD</td>\n",
              "      <td>1</td>\n",
              "      <td>NaN</td>\n",
              "    </tr>\n",
              "    <tr>\n",
              "      <th>2</th>\n",
              "      <td>2022-01-01</td>\n",
              "      <td>19491373621</td>\n",
              "      <td>CVS</td>\n",
              "      <td>28</td>\n",
              "      <td>55200938</td>\n",
              "      <td>237000</td>\n",
              "      <td>cvs</td>\n",
              "      <td>237.0</td>\n",
              "      <td>237.0</td>\n",
              "      <td>STANDARD</td>\n",
              "      <td>1</td>\n",
              "      <td>NaN</td>\n",
              "    </tr>\n",
              "    <tr>\n",
              "      <th>3</th>\n",
              "      <td>2022-01-01</td>\n",
              "      <td>19485025779</td>\n",
              "      <td>CVS</td>\n",
              "      <td>28</td>\n",
              "      <td>17144057</td>\n",
              "      <td>17000</td>\n",
              "      <td>cvs</td>\n",
              "      <td>17.0</td>\n",
              "      <td>17.0</td>\n",
              "      <td>STANDARD</td>\n",
              "      <td>1</td>\n",
              "      <td>NaN</td>\n",
              "    </tr>\n",
              "    <tr>\n",
              "      <th>4</th>\n",
              "      <td>2022-01-01</td>\n",
              "      <td>19497349350</td>\n",
              "      <td>Marketplace</td>\n",
              "      <td>37</td>\n",
              "      <td>46410460</td>\n",
              "      <td>340000</td>\n",
              "      <td>marketplace</td>\n",
              "      <td>340.0</td>\n",
              "      <td>340.0</td>\n",
              "      <td>STANDARD</td>\n",
              "      <td>1</td>\n",
              "      <td>NaN</td>\n",
              "    </tr>\n",
              "  </tbody>\n",
              "</table>\n",
              "</div>\n",
              "      <button class=\"colab-df-convert\" onclick=\"convertToInteractive('df-d1a97083-fd7c-4960-b6e1-2d38deadc3c2')\"\n",
              "              title=\"Convert this dataframe to an interactive table.\"\n",
              "              style=\"display:none;\">\n",
              "        \n",
              "  <svg xmlns=\"http://www.w3.org/2000/svg\" height=\"24px\"viewBox=\"0 0 24 24\"\n",
              "       width=\"24px\">\n",
              "    <path d=\"M0 0h24v24H0V0z\" fill=\"none\"/>\n",
              "    <path d=\"M18.56 5.44l.94 2.06.94-2.06 2.06-.94-2.06-.94-.94-2.06-.94 2.06-2.06.94zm-11 1L8.5 8.5l.94-2.06 2.06-.94-2.06-.94L8.5 2.5l-.94 2.06-2.06.94zm10 10l.94 2.06.94-2.06 2.06-.94-2.06-.94-.94-2.06-.94 2.06-2.06.94z\"/><path d=\"M17.41 7.96l-1.37-1.37c-.4-.4-.92-.59-1.43-.59-.52 0-1.04.2-1.43.59L10.3 9.45l-7.72 7.72c-.78.78-.78 2.05 0 2.83L4 21.41c.39.39.9.59 1.41.59.51 0 1.02-.2 1.41-.59l7.78-7.78 2.81-2.81c.8-.78.8-2.07 0-2.86zM5.41 20L4 18.59l7.72-7.72 1.47 1.35L5.41 20z\"/>\n",
              "  </svg>\n",
              "      </button>\n",
              "      \n",
              "  <style>\n",
              "    .colab-df-container {\n",
              "      display:flex;\n",
              "      flex-wrap:wrap;\n",
              "      gap: 12px;\n",
              "    }\n",
              "\n",
              "    .colab-df-convert {\n",
              "      background-color: #E8F0FE;\n",
              "      border: none;\n",
              "      border-radius: 50%;\n",
              "      cursor: pointer;\n",
              "      display: none;\n",
              "      fill: #1967D2;\n",
              "      height: 32px;\n",
              "      padding: 0 0 0 0;\n",
              "      width: 32px;\n",
              "    }\n",
              "\n",
              "    .colab-df-convert:hover {\n",
              "      background-color: #E2EBFA;\n",
              "      box-shadow: 0px 1px 2px rgba(60, 64, 67, 0.3), 0px 1px 3px 1px rgba(60, 64, 67, 0.15);\n",
              "      fill: #174EA6;\n",
              "    }\n",
              "\n",
              "    [theme=dark] .colab-df-convert {\n",
              "      background-color: #3B4455;\n",
              "      fill: #D2E3FC;\n",
              "    }\n",
              "\n",
              "    [theme=dark] .colab-df-convert:hover {\n",
              "      background-color: #434B5C;\n",
              "      box-shadow: 0px 1px 3px 1px rgba(0, 0, 0, 0.15);\n",
              "      filter: drop-shadow(0px 1px 2px rgba(0, 0, 0, 0.3));\n",
              "      fill: #FFFFFF;\n",
              "    }\n",
              "  </style>\n",
              "\n",
              "      <script>\n",
              "        const buttonEl =\n",
              "          document.querySelector('#df-d1a97083-fd7c-4960-b6e1-2d38deadc3c2 button.colab-df-convert');\n",
              "        buttonEl.style.display =\n",
              "          google.colab.kernel.accessAllowed ? 'block' : 'none';\n",
              "\n",
              "        async function convertToInteractive(key) {\n",
              "          const element = document.querySelector('#df-d1a97083-fd7c-4960-b6e1-2d38deadc3c2');\n",
              "          const dataTable =\n",
              "            await google.colab.kernel.invokeFunction('convertToInteractive',\n",
              "                                                     [key], {});\n",
              "          if (!dataTable) return;\n",
              "\n",
              "          const docLinkHtml = 'Like what you see? Visit the ' +\n",
              "            '<a target=\"_blank\" href=https://colab.research.google.com/notebooks/data_table.ipynb>data table notebook</a>'\n",
              "            + ' to learn more about interactive tables.';\n",
              "          element.innerHTML = '';\n",
              "          dataTable['output_type'] = 'display_data';\n",
              "          await google.colab.output.renderOutput(dataTable, element);\n",
              "          const docLink = document.createElement('div');\n",
              "          docLink.innerHTML = docLinkHtml;\n",
              "          element.appendChild(docLink);\n",
              "        }\n",
              "      </script>\n",
              "    </div>\n",
              "  </div>\n",
              "  "
            ]
          },
          "metadata": {},
          "execution_count": 27
        }
      ]
    },
    {
      "cell_type": "markdown",
      "source": [
        "Fill NaN cashback with 0 "
      ],
      "metadata": {
        "id": "a07vsCelOWFq"
      }
    },
    {
      "cell_type": "code",
      "source": [
        "temp.cashback_per.fillna(0,inplace=True)"
      ],
      "metadata": {
        "id": "Q5IlinaWOMWW"
      },
      "execution_count": null,
      "outputs": []
    },
    {
      "cell_type": "markdown",
      "source": [
        "Get cashback percentage amount "
      ],
      "metadata": {
        "id": "Ajrlq2H-A-mp"
      }
    },
    {
      "cell_type": "code",
      "source": [
        "temp.cashback_per = temp.cashback_per / 100"
      ],
      "metadata": {
        "id": "3sYipn3s3pI0"
      },
      "execution_count": null,
      "outputs": []
    },
    {
      "cell_type": "markdown",
      "source": [
        "Calculate the cashback per trans, and check up if there's any invalid cahsback( cashback > 10000) "
      ],
      "metadata": {
        "id": "I5nNXL6xBEo4"
      }
    },
    {
      "cell_type": "code",
      "source": [
        "cashback = temp.cashback_per * temp.GMV\n",
        "(cashback > 10 ** 4).sum()"
      ],
      "metadata": {
        "colab": {
          "base_uri": "https://localhost:8080/"
        },
        "id": "g5zAva279Yzd",
        "outputId": "c889454a-072a-4ee9-d361-f0b014f2bf1b"
      },
      "execution_count": null,
      "outputs": [
        {
          "output_type": "execute_result",
          "data": {
            "text/plain": [
              "787"
            ]
          },
          "metadata": {},
          "execution_count": 30
        }
      ]
    },
    {
      "cell_type": "markdown",
      "source": [
        "Normalize the invalid cashback by assigning it to 10000 by default"
      ],
      "metadata": {
        "id": "Qu8ahUCBBLMK"
      }
    },
    {
      "cell_type": "code",
      "source": [
        "cashback = cashback.apply(lambda x: 10000 if x > 10000 else x)"
      ],
      "metadata": {
        "id": "6BJJy_Ow_c9i"
      },
      "execution_count": null,
      "outputs": []
    },
    {
      "cell_type": "code",
      "source": [
        "cashback.shape"
      ],
      "metadata": {
        "colab": {
          "base_uri": "https://localhost:8080/"
        },
        "id": "FXyCkuqxsbRH",
        "outputId": "ae18a779-321d-4154-f9f8-94563241ea92"
      },
      "execution_count": null,
      "outputs": [
        {
          "output_type": "execute_result",
          "data": {
            "text/plain": [
              "(18813,)"
            ]
          },
          "metadata": {},
          "execution_count": 32
        }
      ]
    },
    {
      "cell_type": "markdown",
      "source": [
        "Create cashback column in transaction table"
      ],
      "metadata": {
        "id": "jw1zSpRuBhXI"
      }
    },
    {
      "cell_type": "code",
      "source": [
        "new_trans['cashback'] = cashback\n",
        "new_trans.head()"
      ],
      "metadata": {
        "colab": {
          "base_uri": "https://localhost:8080/",
          "height": 206
        },
        "id": "U0FzJcY8ABJS",
        "outputId": "b57f6a7d-2f36-4d47-9ab1-83e756c0ab11"
      },
      "execution_count": null,
      "outputs": [
        {
          "output_type": "execute_result",
          "data": {
            "text/plain": [
              "        DATE     Order_id NEWVERTICAL_Merchant  MerchantID   User_id     GMV  \\\n",
              "0 2022-01-01  19502954801          Supermarket          25  45715492   41400   \n",
              "1 2022-01-01  19492487660                  CVS          28  41720789  205000   \n",
              "2 2022-01-01  19491373621                  CVS          28  55200938  237000   \n",
              "3 2022-01-01  19485025779                  CVS          28  17144057   17000   \n",
              "4 2022-01-01  19497349350          Marketplace          37  46410460  340000   \n",
              "\n",
              "  service_group  point  loyalty_points rank_name  classID  cashback  \n",
              "0   supermarket   41.4            41.4  STANDARD        1       0.0  \n",
              "1           cvs  205.0           205.0  STANDARD        1       0.0  \n",
              "2           cvs  237.0           237.0  STANDARD        1       0.0  \n",
              "3           cvs   17.0            17.0  STANDARD        1       0.0  \n",
              "4   marketplace  340.0           340.0  STANDARD        1       0.0  "
            ],
            "text/html": [
              "\n",
              "  <div id=\"df-42050064-fac8-4119-954b-a36c71cad4a7\">\n",
              "    <div class=\"colab-df-container\">\n",
              "      <div>\n",
              "<style scoped>\n",
              "    .dataframe tbody tr th:only-of-type {\n",
              "        vertical-align: middle;\n",
              "    }\n",
              "\n",
              "    .dataframe tbody tr th {\n",
              "        vertical-align: top;\n",
              "    }\n",
              "\n",
              "    .dataframe thead th {\n",
              "        text-align: right;\n",
              "    }\n",
              "</style>\n",
              "<table border=\"1\" class=\"dataframe\">\n",
              "  <thead>\n",
              "    <tr style=\"text-align: right;\">\n",
              "      <th></th>\n",
              "      <th>DATE</th>\n",
              "      <th>Order_id</th>\n",
              "      <th>NEWVERTICAL_Merchant</th>\n",
              "      <th>MerchantID</th>\n",
              "      <th>User_id</th>\n",
              "      <th>GMV</th>\n",
              "      <th>service_group</th>\n",
              "      <th>point</th>\n",
              "      <th>loyalty_points</th>\n",
              "      <th>rank_name</th>\n",
              "      <th>classID</th>\n",
              "      <th>cashback</th>\n",
              "    </tr>\n",
              "  </thead>\n",
              "  <tbody>\n",
              "    <tr>\n",
              "      <th>0</th>\n",
              "      <td>2022-01-01</td>\n",
              "      <td>19502954801</td>\n",
              "      <td>Supermarket</td>\n",
              "      <td>25</td>\n",
              "      <td>45715492</td>\n",
              "      <td>41400</td>\n",
              "      <td>supermarket</td>\n",
              "      <td>41.4</td>\n",
              "      <td>41.4</td>\n",
              "      <td>STANDARD</td>\n",
              "      <td>1</td>\n",
              "      <td>0.0</td>\n",
              "    </tr>\n",
              "    <tr>\n",
              "      <th>1</th>\n",
              "      <td>2022-01-01</td>\n",
              "      <td>19492487660</td>\n",
              "      <td>CVS</td>\n",
              "      <td>28</td>\n",
              "      <td>41720789</td>\n",
              "      <td>205000</td>\n",
              "      <td>cvs</td>\n",
              "      <td>205.0</td>\n",
              "      <td>205.0</td>\n",
              "      <td>STANDARD</td>\n",
              "      <td>1</td>\n",
              "      <td>0.0</td>\n",
              "    </tr>\n",
              "    <tr>\n",
              "      <th>2</th>\n",
              "      <td>2022-01-01</td>\n",
              "      <td>19491373621</td>\n",
              "      <td>CVS</td>\n",
              "      <td>28</td>\n",
              "      <td>55200938</td>\n",
              "      <td>237000</td>\n",
              "      <td>cvs</td>\n",
              "      <td>237.0</td>\n",
              "      <td>237.0</td>\n",
              "      <td>STANDARD</td>\n",
              "      <td>1</td>\n",
              "      <td>0.0</td>\n",
              "    </tr>\n",
              "    <tr>\n",
              "      <th>3</th>\n",
              "      <td>2022-01-01</td>\n",
              "      <td>19485025779</td>\n",
              "      <td>CVS</td>\n",
              "      <td>28</td>\n",
              "      <td>17144057</td>\n",
              "      <td>17000</td>\n",
              "      <td>cvs</td>\n",
              "      <td>17.0</td>\n",
              "      <td>17.0</td>\n",
              "      <td>STANDARD</td>\n",
              "      <td>1</td>\n",
              "      <td>0.0</td>\n",
              "    </tr>\n",
              "    <tr>\n",
              "      <th>4</th>\n",
              "      <td>2022-01-01</td>\n",
              "      <td>19497349350</td>\n",
              "      <td>Marketplace</td>\n",
              "      <td>37</td>\n",
              "      <td>46410460</td>\n",
              "      <td>340000</td>\n",
              "      <td>marketplace</td>\n",
              "      <td>340.0</td>\n",
              "      <td>340.0</td>\n",
              "      <td>STANDARD</td>\n",
              "      <td>1</td>\n",
              "      <td>0.0</td>\n",
              "    </tr>\n",
              "  </tbody>\n",
              "</table>\n",
              "</div>\n",
              "      <button class=\"colab-df-convert\" onclick=\"convertToInteractive('df-42050064-fac8-4119-954b-a36c71cad4a7')\"\n",
              "              title=\"Convert this dataframe to an interactive table.\"\n",
              "              style=\"display:none;\">\n",
              "        \n",
              "  <svg xmlns=\"http://www.w3.org/2000/svg\" height=\"24px\"viewBox=\"0 0 24 24\"\n",
              "       width=\"24px\">\n",
              "    <path d=\"M0 0h24v24H0V0z\" fill=\"none\"/>\n",
              "    <path d=\"M18.56 5.44l.94 2.06.94-2.06 2.06-.94-2.06-.94-.94-2.06-.94 2.06-2.06.94zm-11 1L8.5 8.5l.94-2.06 2.06-.94-2.06-.94L8.5 2.5l-.94 2.06-2.06.94zm10 10l.94 2.06.94-2.06 2.06-.94-2.06-.94-.94-2.06-.94 2.06-2.06.94z\"/><path d=\"M17.41 7.96l-1.37-1.37c-.4-.4-.92-.59-1.43-.59-.52 0-1.04.2-1.43.59L10.3 9.45l-7.72 7.72c-.78.78-.78 2.05 0 2.83L4 21.41c.39.39.9.59 1.41.59.51 0 1.02-.2 1.41-.59l7.78-7.78 2.81-2.81c.8-.78.8-2.07 0-2.86zM5.41 20L4 18.59l7.72-7.72 1.47 1.35L5.41 20z\"/>\n",
              "  </svg>\n",
              "      </button>\n",
              "      \n",
              "  <style>\n",
              "    .colab-df-container {\n",
              "      display:flex;\n",
              "      flex-wrap:wrap;\n",
              "      gap: 12px;\n",
              "    }\n",
              "\n",
              "    .colab-df-convert {\n",
              "      background-color: #E8F0FE;\n",
              "      border: none;\n",
              "      border-radius: 50%;\n",
              "      cursor: pointer;\n",
              "      display: none;\n",
              "      fill: #1967D2;\n",
              "      height: 32px;\n",
              "      padding: 0 0 0 0;\n",
              "      width: 32px;\n",
              "    }\n",
              "\n",
              "    .colab-df-convert:hover {\n",
              "      background-color: #E2EBFA;\n",
              "      box-shadow: 0px 1px 2px rgba(60, 64, 67, 0.3), 0px 1px 3px 1px rgba(60, 64, 67, 0.15);\n",
              "      fill: #174EA6;\n",
              "    }\n",
              "\n",
              "    [theme=dark] .colab-df-convert {\n",
              "      background-color: #3B4455;\n",
              "      fill: #D2E3FC;\n",
              "    }\n",
              "\n",
              "    [theme=dark] .colab-df-convert:hover {\n",
              "      background-color: #434B5C;\n",
              "      box-shadow: 0px 1px 3px 1px rgba(0, 0, 0, 0.15);\n",
              "      filter: drop-shadow(0px 1px 2px rgba(0, 0, 0, 0.3));\n",
              "      fill: #FFFFFF;\n",
              "    }\n",
              "  </style>\n",
              "\n",
              "      <script>\n",
              "        const buttonEl =\n",
              "          document.querySelector('#df-42050064-fac8-4119-954b-a36c71cad4a7 button.colab-df-convert');\n",
              "        buttonEl.style.display =\n",
              "          google.colab.kernel.accessAllowed ? 'block' : 'none';\n",
              "\n",
              "        async function convertToInteractive(key) {\n",
              "          const element = document.querySelector('#df-42050064-fac8-4119-954b-a36c71cad4a7');\n",
              "          const dataTable =\n",
              "            await google.colab.kernel.invokeFunction('convertToInteractive',\n",
              "                                                     [key], {});\n",
              "          if (!dataTable) return;\n",
              "\n",
              "          const docLinkHtml = 'Like what you see? Visit the ' +\n",
              "            '<a target=\"_blank\" href=https://colab.research.google.com/notebooks/data_table.ipynb>data table notebook</a>'\n",
              "            + ' to learn more about interactive tables.';\n",
              "          element.innerHTML = '';\n",
              "          dataTable['output_type'] = 'display_data';\n",
              "          await google.colab.output.renderOutput(dataTable, element);\n",
              "          const docLink = document.createElement('div');\n",
              "          docLink.innerHTML = docLinkHtml;\n",
              "          element.appendChild(docLink);\n",
              "        }\n",
              "      </script>\n",
              "    </div>\n",
              "  </div>\n",
              "  "
            ]
          },
          "metadata": {},
          "execution_count": 33
        }
      ]
    },
    {
      "cell_type": "markdown",
      "source": [
        "We can plot it on histogram to see the distribution of cashback"
      ],
      "metadata": {
        "id": "KweW0kRag4Tw"
      }
    },
    {
      "cell_type": "code",
      "source": [
        "cashback_in_feb = new_trans.query(\"DATE < '2022-03-01'\").cashback\n",
        "cashback_in_feb.plot(kind='hist', figsize=(16,9))"
      ],
      "metadata": {
        "colab": {
          "base_uri": "https://localhost:8080/",
          "height": 554
        },
        "id": "_pwOlCGjgkvd",
        "outputId": "842fbd6f-3fb4-402d-fdb7-b4a885038bdc"
      },
      "execution_count": null,
      "outputs": [
        {
          "output_type": "execute_result",
          "data": {
            "text/plain": [
              "<matplotlib.axes._subplots.AxesSubplot at 0x7f2463abd210>"
            ]
          },
          "metadata": {},
          "execution_count": 34
        },
        {
          "output_type": "display_data",
          "data": {
            "text/plain": [
              "<Figure size 1152x648 with 1 Axes>"
            ],
            "image/png": "[encoded data removed]"
          },
          "metadata": {
            "needs_background": "light"
          }
        }
      ]
    },
    {
      "cell_type": "markdown",
      "source": [
        "- We can see that, 0 cashback takes account for most of the distribution, makes our distribution very skew towards the inbalance. This is obvious since Standard user have the most amount among the categories, hence they have zero cashback\n",
        "- We want to check how the distribution looks like for the remainder"
      ],
      "metadata": {
        "id": "dL6VSZ9Xg8gX"
      }
    },
    {
      "cell_type": "code",
      "source": [
        "temp_cashback = new_trans[new_trans.cashback > 0].cashback\n",
        "temp_cashback.plot(kind='hist',figsize=(16,9), bins = 20)"
      ],
      "metadata": {
        "colab": {
          "base_uri": "https://localhost:8080/",
          "height": 554
        },
        "id": "2vGsZgRGh0v2",
        "outputId": "b125e477-f269-4833-fd22-5077002086f0"
      },
      "execution_count": null,
      "outputs": [
        {
          "output_type": "execute_result",
          "data": {
            "text/plain": [
              "<matplotlib.axes._subplots.AxesSubplot at 0x7f2463960f50>"
            ]
          },
          "metadata": {},
          "execution_count": 35
        },
        {
          "output_type": "display_data",
          "data": {
            "text/plain": [
              "<Figure size 1152x648 with 1 Axes>"
            ],
            "image/png": "[encoded data removed]"
          },
          "metadata": {
            "needs_background": "light"
          }
        }
      ]
    },
    {
      "cell_type": "markdown",
      "source": [
        "_______________________________________________________________________________"
      ],
      "metadata": {
        "id": "AxwoJRh9G63C"
      }
    },
    {
      "cell_type": "markdown",
      "source": [
        "**3/\tDesign a weekly retention charts of since the program was lauched to monitor**"
      ],
      "metadata": {
        "id": "GD9CILmD2dCf"
      }
    },
    {
      "cell_type": "markdown",
      "source": [
        "Get the first date of service use for each user"
      ],
      "metadata": {
        "id": "LsRgcraAGEU6"
      }
    },
    {
      "cell_type": "code",
      "source": [
        "from datetime import datetime\n",
        "new_trans['DATE'] = pd.to_datetime(new_trans['DATE'], errors ='coerce')\n",
        "start_date = new_trans.groupby(['User_id']).DATE.min()\n",
        "start_date.rename('start_day',inplace=True)\n",
        "start_date.head()"
      ],
      "metadata": {
        "colab": {
          "base_uri": "https://localhost:8080/"
        },
        "id": "jxMjqGrYG8Y1",
        "outputId": "3034ee05-c580-4263-9dbe-661f11160471"
      },
      "execution_count": null,
      "outputs": [
        {
          "output_type": "execute_result",
          "data": {
            "text/plain": [
              "User_id\n",
              "136825   2022-01-24\n",
              "162483   2022-03-23\n",
              "199215   2022-01-28\n",
              "298202   2022-02-15\n",
              "321062   2022-03-25\n",
              "Name: start_day, dtype: datetime64[ns]"
            ]
          },
          "metadata": {},
          "execution_count": 36
        }
      ]
    },
    {
      "cell_type": "markdown",
      "source": [
        "Merge to the new DataFrame called retention_df"
      ],
      "metadata": {
        "id": "IDiUNg6SGbeV"
      }
    },
    {
      "cell_type": "code",
      "source": [
        "retention_df = pd.merge(new_trans, start_date, on='User_id',how='left')\n",
        "retention_df.head()"
      ],
      "metadata": {
        "colab": {
          "base_uri": "https://localhost:8080/",
          "height": 206
        },
        "id": "MbOs9ly9Ib7a",
        "outputId": "b87b1b0c-1752-4151-c189-e5f3c45529a4"
      },
      "execution_count": null,
      "outputs": [
        {
          "output_type": "execute_result",
          "data": {
            "text/plain": [
              "        DATE     Order_id NEWVERTICAL_Merchant  MerchantID   User_id     GMV  \\\n",
              "0 2022-01-01  19502954801          Supermarket          25  45715492   41400   \n",
              "1 2022-01-01  19492487660                  CVS          28  41720789  205000   \n",
              "2 2022-01-01  19491373621                  CVS          28  55200938  237000   \n",
              "3 2022-01-01  19485025779                  CVS          28  17144057   17000   \n",
              "4 2022-01-01  19497349350          Marketplace          37  46410460  340000   \n",
              "\n",
              "  service_group  point  loyalty_points rank_name  classID  cashback  start_day  \n",
              "0   supermarket   41.4            41.4  STANDARD        1       0.0 2022-01-01  \n",
              "1           cvs  205.0           205.0  STANDARD        1       0.0 2022-01-01  \n",
              "2           cvs  237.0           237.0  STANDARD        1       0.0 2022-01-01  \n",
              "3           cvs   17.0            17.0  STANDARD        1       0.0 2022-01-01  \n",
              "4   marketplace  340.0           340.0  STANDARD        1       0.0 2022-01-01  "
            ],
            "text/html": [
              "\n",
              "  <div id=\"df-b610dd77-0c72-4eed-8df7-78a31f4b4d44\">\n",
              "    <div class=\"colab-df-container\">\n",
              "      <div>\n",
              "<style scoped>\n",
              "    .dataframe tbody tr th:only-of-type {\n",
              "        vertical-align: middle;\n",
              "    }\n",
              "\n",
              "    .dataframe tbody tr th {\n",
              "        vertical-align: top;\n",
              "    }\n",
              "\n",
              "    .dataframe thead th {\n",
              "        text-align: right;\n",
              "    }\n",
              "</style>\n",
              "<table border=\"1\" class=\"dataframe\">\n",
              "  <thead>\n",
              "    <tr style=\"text-align: right;\">\n",
              "      <th></th>\n",
              "      <th>DATE</th>\n",
              "      <th>Order_id</th>\n",
              "      <th>NEWVERTICAL_Merchant</th>\n",
              "      <th>MerchantID</th>\n",
              "      <th>User_id</th>\n",
              "      <th>GMV</th>\n",
              "      <th>service_group</th>\n",
              "      <th>point</th>\n",
              "      <th>loyalty_points</th>\n",
              "      <th>rank_name</th>\n",
              "      <th>classID</th>\n",
              "      <th>cashback</th>\n",
              "      <th>start_day</th>\n",
              "    </tr>\n",
              "  </thead>\n",
              "  <tbody>\n",
              "    <tr>\n",
              "      <th>0</th>\n",
              "      <td>2022-01-01</td>\n",
              "      <td>19502954801</td>\n",
              "      <td>Supermarket</td>\n",
              "      <td>25</td>\n",
              "      <td>45715492</td>\n",
              "      <td>41400</td>\n",
              "      <td>supermarket</td>\n",
              "      <td>41.4</td>\n",
              "      <td>41.4</td>\n",
              "      <td>STANDARD</td>\n",
              "      <td>1</td>\n",
              "      <td>0.0</td>\n",
              "      <td>2022-01-01</td>\n",
              "    </tr>\n",
              "    <tr>\n",
              "      <th>1</th>\n",
              "      <td>2022-01-01</td>\n",
              "      <td>19492487660</td>\n",
              "      <td>CVS</td>\n",
              "      <td>28</td>\n",
              "      <td>41720789</td>\n",
              "      <td>205000</td>\n",
              "      <td>cvs</td>\n",
              "      <td>205.0</td>\n",
              "      <td>205.0</td>\n",
              "      <td>STANDARD</td>\n",
              "      <td>1</td>\n",
              "      <td>0.0</td>\n",
              "      <td>2022-01-01</td>\n",
              "    </tr>\n",
              "    <tr>\n",
              "      <th>2</th>\n",
              "      <td>2022-01-01</td>\n",
              "      <td>19491373621</td>\n",
              "      <td>CVS</td>\n",
              "      <td>28</td>\n",
              "      <td>55200938</td>\n",
              "      <td>237000</td>\n",
              "      <td>cvs</td>\n",
              "      <td>237.0</td>\n",
              "      <td>237.0</td>\n",
              "      <td>STANDARD</td>\n",
              "      <td>1</td>\n",
              "      <td>0.0</td>\n",
              "      <td>2022-01-01</td>\n",
              "    </tr>\n",
              "    <tr>\n",
              "      <th>3</th>\n",
              "      <td>2022-01-01</td>\n",
              "      <td>19485025779</td>\n",
              "      <td>CVS</td>\n",
              "      <td>28</td>\n",
              "      <td>17144057</td>\n",
              "      <td>17000</td>\n",
              "      <td>cvs</td>\n",
              "      <td>17.0</td>\n",
              "      <td>17.0</td>\n",
              "      <td>STANDARD</td>\n",
              "      <td>1</td>\n",
              "      <td>0.0</td>\n",
              "      <td>2022-01-01</td>\n",
              "    </tr>\n",
              "    <tr>\n",
              "      <th>4</th>\n",
              "      <td>2022-01-01</td>\n",
              "      <td>19497349350</td>\n",
              "      <td>Marketplace</td>\n",
              "      <td>37</td>\n",
              "      <td>46410460</td>\n",
              "      <td>340000</td>\n",
              "      <td>marketplace</td>\n",
              "      <td>340.0</td>\n",
              "      <td>340.0</td>\n",
              "      <td>STANDARD</td>\n",
              "      <td>1</td>\n",
              "      <td>0.0</td>\n",
              "      <td>2022-01-01</td>\n",
              "    </tr>\n",
              "  </tbody>\n",
              "</table>\n",
              "</div>\n",
              "      <button class=\"colab-df-convert\" onclick=\"convertToInteractive('df-b610dd77-0c72-4eed-8df7-78a31f4b4d44')\"\n",
              "              title=\"Convert this dataframe to an interactive table.\"\n",
              "              style=\"display:none;\">\n",
              "        \n",
              "  <svg xmlns=\"http://www.w3.org/2000/svg\" height=\"24px\"viewBox=\"0 0 24 24\"\n",
              "       width=\"24px\">\n",
              "    <path d=\"M0 0h24v24H0V0z\" fill=\"none\"/>\n",
              "    <path d=\"M18.56 5.44l.94 2.06.94-2.06 2.06-.94-2.06-.94-.94-2.06-.94 2.06-2.06.94zm-11 1L8.5 8.5l.94-2.06 2.06-.94-2.06-.94L8.5 2.5l-.94 2.06-2.06.94zm10 10l.94 2.06.94-2.06 2.06-.94-2.06-.94-.94-2.06-.94 2.06-2.06.94z\"/><path d=\"M17.41 7.96l-1.37-1.37c-.4-.4-.92-.59-1.43-.59-.52 0-1.04.2-1.43.59L10.3 9.45l-7.72 7.72c-.78.78-.78 2.05 0 2.83L4 21.41c.39.39.9.59 1.41.59.51 0 1.02-.2 1.41-.59l7.78-7.78 2.81-2.81c.8-.78.8-2.07 0-2.86zM5.41 20L4 18.59l7.72-7.72 1.47 1.35L5.41 20z\"/>\n",
              "  </svg>\n",
              "      </button>\n",
              "      \n",
              "  <style>\n",
              "    .colab-df-container {\n",
              "      display:flex;\n",
              "      flex-wrap:wrap;\n",
              "      gap: 12px;\n",
              "    }\n",
              "\n",
              "    .colab-df-convert {\n",
              "      background-color: #E8F0FE;\n",
              "      border: none;\n",
              "      border-radius: 50%;\n",
              "      cursor: pointer;\n",
              "      display: none;\n",
              "      fill: #1967D2;\n",
              "      height: 32px;\n",
              "      padding: 0 0 0 0;\n",
              "      width: 32px;\n",
              "    }\n",
              "\n",
              "    .colab-df-convert:hover {\n",
              "      background-color: #E2EBFA;\n",
              "      box-shadow: 0px 1px 2px rgba(60, 64, 67, 0.3), 0px 1px 3px 1px rgba(60, 64, 67, 0.15);\n",
              "      fill: #174EA6;\n",
              "    }\n",
              "\n",
              "    [theme=dark] .colab-df-convert {\n",
              "      background-color: #3B4455;\n",
              "      fill: #D2E3FC;\n",
              "    }\n",
              "\n",
              "    [theme=dark] .colab-df-convert:hover {\n",
              "      background-color: #434B5C;\n",
              "      box-shadow: 0px 1px 3px 1px rgba(0, 0, 0, 0.15);\n",
              "      filter: drop-shadow(0px 1px 2px rgba(0, 0, 0, 0.3));\n",
              "      fill: #FFFFFF;\n",
              "    }\n",
              "  </style>\n",
              "\n",
              "      <script>\n",
              "        const buttonEl =\n",
              "          document.querySelector('#df-b610dd77-0c72-4eed-8df7-78a31f4b4d44 button.colab-df-convert');\n",
              "        buttonEl.style.display =\n",
              "          google.colab.kernel.accessAllowed ? 'block' : 'none';\n",
              "\n",
              "        async function convertToInteractive(key) {\n",
              "          const element = document.querySelector('#df-b610dd77-0c72-4eed-8df7-78a31f4b4d44');\n",
              "          const dataTable =\n",
              "            await google.colab.kernel.invokeFunction('convertToInteractive',\n",
              "                                                     [key], {});\n",
              "          if (!dataTable) return;\n",
              "\n",
              "          const docLinkHtml = 'Like what you see? Visit the ' +\n",
              "            '<a target=\"_blank\" href=https://colab.research.google.com/notebooks/data_table.ipynb>data table notebook</a>'\n",
              "            + ' to learn more about interactive tables.';\n",
              "          element.innerHTML = '';\n",
              "          dataTable['output_type'] = 'display_data';\n",
              "          await google.colab.output.renderOutput(dataTable, element);\n",
              "          const docLink = document.createElement('div');\n",
              "          docLink.innerHTML = docLinkHtml;\n",
              "          element.appendChild(docLink);\n",
              "        }\n",
              "      </script>\n",
              "    </div>\n",
              "  </div>\n",
              "  "
            ]
          },
          "metadata": {},
          "execution_count": 37
        }
      ]
    },
    {
      "cell_type": "code",
      "source": [
        "used_cols = ['DATE','User_id','start_day']\n",
        "retention_df = retention_df[used_cols]"
      ],
      "metadata": {
        "id": "VUVv2kEhI2xp"
      },
      "execution_count": null,
      "outputs": []
    },
    {
      "cell_type": "markdown",
      "source": [
        "Extract start week and number of weeks since start week"
      ],
      "metadata": {
        "id": "cHB183YUHGA1"
      }
    },
    {
      "cell_type": "code",
      "source": [
        "retention_df['days_since_start'] = (retention_df['DATE'] - retention_df['start_day']).dt.days\n",
        "# Extract start week\n",
        "retention_df['start_week'] = retention_df.apply(lambda x: (x['start_day'] - pd.Timedelta(x['start_day'].dayofweek, u='day')).date(), axis=1)\n",
        "retention_df['start_week'] = pd.to_datetime(retention_df['start_week'])\n",
        "\n",
        "# Get the number of weeks since the user started\n",
        "retention_df['weeks_since_start'] = np.floor((retention_df['DATE'] - retention_df['start_week']) / np.timedelta64(1, 'W'))"
      ],
      "metadata": {
        "id": "trI04hIn_T5j"
      },
      "execution_count": null,
      "outputs": []
    },
    {
      "cell_type": "code",
      "source": [
        "retention_df.head()"
      ],
      "metadata": {
        "colab": {
          "base_uri": "https://localhost:8080/",
          "height": 206
        },
        "id": "jVk68pQI_mrT",
        "outputId": "016541dc-dce2-41b9-c166-af91259a2640"
      },
      "execution_count": null,
      "outputs": [
        {
          "output_type": "execute_result",
          "data": {
            "text/plain": [
              "        DATE   User_id  start_day  days_since_start start_week  \\\n",
              "0 2022-01-01  45715492 2022-01-01                 0 2021-12-31   \n",
              "1 2022-01-01  41720789 2022-01-01                 0 2021-12-31   \n",
              "2 2022-01-01  55200938 2022-01-01                 0 2021-12-31   \n",
              "3 2022-01-01  17144057 2022-01-01                 0 2021-12-31   \n",
              "4 2022-01-01  46410460 2022-01-01                 0 2021-12-31   \n",
              "\n",
              "   weeks_since_start  \n",
              "0                0.0  \n",
              "1                0.0  \n",
              "2                0.0  \n",
              "3                0.0  \n",
              "4                0.0  "
            ],
            "text/html": [
              "\n",
              "  <div id=\"df-21852aad-b0ae-491a-b6ce-10a1b1ef83d5\">\n",
              "    <div class=\"colab-df-container\">\n",
              "      <div>\n",
              "<style scoped>\n",
              "    .dataframe tbody tr th:only-of-type {\n",
              "        vertical-align: middle;\n",
              "    }\n",
              "\n",
              "    .dataframe tbody tr th {\n",
              "        vertical-align: top;\n",
              "    }\n",
              "\n",
              "    .dataframe thead th {\n",
              "        text-align: right;\n",
              "    }\n",
              "</style>\n",
              "<table border=\"1\" class=\"dataframe\">\n",
              "  <thead>\n",
              "    <tr style=\"text-align: right;\">\n",
              "      <th></th>\n",
              "      <th>DATE</th>\n",
              "      <th>User_id</th>\n",
              "      <th>start_day</th>\n",
              "      <th>days_since_start</th>\n",
              "      <th>start_week</th>\n",
              "      <th>weeks_since_start</th>\n",
              "    </tr>\n",
              "  </thead>\n",
              "  <tbody>\n",
              "    <tr>\n",
              "      <th>0</th>\n",
              "      <td>2022-01-01</td>\n",
              "      <td>45715492</td>\n",
              "      <td>2022-01-01</td>\n",
              "      <td>0</td>\n",
              "      <td>2021-12-31</td>\n",
              "      <td>0.0</td>\n",
              "    </tr>\n",
              "    <tr>\n",
              "      <th>1</th>\n",
              "      <td>2022-01-01</td>\n",
              "      <td>41720789</td>\n",
              "      <td>2022-01-01</td>\n",
              "      <td>0</td>\n",
              "      <td>2021-12-31</td>\n",
              "      <td>0.0</td>\n",
              "    </tr>\n",
              "    <tr>\n",
              "      <th>2</th>\n",
              "      <td>2022-01-01</td>\n",
              "      <td>55200938</td>\n",
              "      <td>2022-01-01</td>\n",
              "      <td>0</td>\n",
              "      <td>2021-12-31</td>\n",
              "      <td>0.0</td>\n",
              "    </tr>\n",
              "    <tr>\n",
              "      <th>3</th>\n",
              "      <td>2022-01-01</td>\n",
              "      <td>17144057</td>\n",
              "      <td>2022-01-01</td>\n",
              "      <td>0</td>\n",
              "      <td>2021-12-31</td>\n",
              "      <td>0.0</td>\n",
              "    </tr>\n",
              "    <tr>\n",
              "      <th>4</th>\n",
              "      <td>2022-01-01</td>\n",
              "      <td>46410460</td>\n",
              "      <td>2022-01-01</td>\n",
              "      <td>0</td>\n",
              "      <td>2021-12-31</td>\n",
              "      <td>0.0</td>\n",
              "    </tr>\n",
              "  </tbody>\n",
              "</table>\n",
              "</div>\n",
              "      <button class=\"colab-df-convert\" onclick=\"convertToInteractive('df-21852aad-b0ae-491a-b6ce-10a1b1ef83d5')\"\n",
              "              title=\"Convert this dataframe to an interactive table.\"\n",
              "              style=\"display:none;\">\n",
              "        \n",
              "  <svg xmlns=\"http://www.w3.org/2000/svg\" height=\"24px\"viewBox=\"0 0 24 24\"\n",
              "       width=\"24px\">\n",
              "    <path d=\"M0 0h24v24H0V0z\" fill=\"none\"/>\n",
              "    <path d=\"M18.56 5.44l.94 2.06.94-2.06 2.06-.94-2.06-.94-.94-2.06-.94 2.06-2.06.94zm-11 1L8.5 8.5l.94-2.06 2.06-.94-2.06-.94L8.5 2.5l-.94 2.06-2.06.94zm10 10l.94 2.06.94-2.06 2.06-.94-2.06-.94-.94-2.06-.94 2.06-2.06.94z\"/><path d=\"M17.41 7.96l-1.37-1.37c-.4-.4-.92-.59-1.43-.59-.52 0-1.04.2-1.43.59L10.3 9.45l-7.72 7.72c-.78.78-.78 2.05 0 2.83L4 21.41c.39.39.9.59 1.41.59.51 0 1.02-.2 1.41-.59l7.78-7.78 2.81-2.81c.8-.78.8-2.07 0-2.86zM5.41 20L4 18.59l7.72-7.72 1.47 1.35L5.41 20z\"/>\n",
              "  </svg>\n",
              "      </button>\n",
              "      \n",
              "  <style>\n",
              "    .colab-df-container {\n",
              "      display:flex;\n",
              "      flex-wrap:wrap;\n",
              "      gap: 12px;\n",
              "    }\n",
              "\n",
              "    .colab-df-convert {\n",
              "      background-color: #E8F0FE;\n",
              "      border: none;\n",
              "      border-radius: 50%;\n",
              "      cursor: pointer;\n",
              "      display: none;\n",
              "      fill: #1967D2;\n",
              "      height: 32px;\n",
              "      padding: 0 0 0 0;\n",
              "      width: 32px;\n",
              "    }\n",
              "\n",
              "    .colab-df-convert:hover {\n",
              "      background-color: #E2EBFA;\n",
              "      box-shadow: 0px 1px 2px rgba(60, 64, 67, 0.3), 0px 1px 3px 1px rgba(60, 64, 67, 0.15);\n",
              "      fill: #174EA6;\n",
              "    }\n",
              "\n",
              "    [theme=dark] .colab-df-convert {\n",
              "      background-color: #3B4455;\n",
              "      fill: #D2E3FC;\n",
              "    }\n",
              "\n",
              "    [theme=dark] .colab-df-convert:hover {\n",
              "      background-color: #434B5C;\n",
              "      box-shadow: 0px 1px 3px 1px rgba(0, 0, 0, 0.15);\n",
              "      filter: drop-shadow(0px 1px 2px rgba(0, 0, 0, 0.3));\n",
              "      fill: #FFFFFF;\n",
              "    }\n",
              "  </style>\n",
              "\n",
              "      <script>\n",
              "        const buttonEl =\n",
              "          document.querySelector('#df-21852aad-b0ae-491a-b6ce-10a1b1ef83d5 button.colab-df-convert');\n",
              "        buttonEl.style.display =\n",
              "          google.colab.kernel.accessAllowed ? 'block' : 'none';\n",
              "\n",
              "        async function convertToInteractive(key) {\n",
              "          const element = document.querySelector('#df-21852aad-b0ae-491a-b6ce-10a1b1ef83d5');\n",
              "          const dataTable =\n",
              "            await google.colab.kernel.invokeFunction('convertToInteractive',\n",
              "                                                     [key], {});\n",
              "          if (!dataTable) return;\n",
              "\n",
              "          const docLinkHtml = 'Like what you see? Visit the ' +\n",
              "            '<a target=\"_blank\" href=https://colab.research.google.com/notebooks/data_table.ipynb>data table notebook</a>'\n",
              "            + ' to learn more about interactive tables.';\n",
              "          element.innerHTML = '';\n",
              "          dataTable['output_type'] = 'display_data';\n",
              "          await google.colab.output.renderOutput(dataTable, element);\n",
              "          const docLink = document.createElement('div');\n",
              "          docLink.innerHTML = docLinkHtml;\n",
              "          element.appendChild(docLink);\n",
              "        }\n",
              "      </script>\n",
              "    </div>\n",
              "  </div>\n",
              "  "
            ]
          },
          "metadata": {},
          "execution_count": 40
        }
      ]
    },
    {
      "cell_type": "markdown",
      "source": [
        "Get unique number of weeks since start week "
      ],
      "metadata": {
        "id": "z1XMsrDqG7ci"
      }
    },
    {
      "cell_type": "code",
      "source": [
        "retention_df['weeks_since_start'] = retention_df['weeks_since_start'].astype(int)\n",
        "weeks_since_start = retention_df.groupby('weeks_since_start').User_id.nunique()\n",
        "weeks_since_start.head()"
      ],
      "metadata": {
        "colab": {
          "base_uri": "https://localhost:8080/"
        },
        "id": "arJQJxNq_sJ5",
        "outputId": "76945e5d-384e-4671-b795-56f6389fd2fa"
      },
      "execution_count": null,
      "outputs": [
        {
          "output_type": "execute_result",
          "data": {
            "text/plain": [
              "weeks_since_start\n",
              "0    3358\n",
              "1     799\n",
              "2     644\n",
              "3     539\n",
              "4     517\n",
              "Name: User_id, dtype: int64"
            ]
          },
          "metadata": {},
          "execution_count": 41
        }
      ]
    },
    {
      "cell_type": "markdown",
      "source": [
        "We can see there's a huge drop from the 1st week to the 2nd week"
      ],
      "metadata": {
        "id": "GMvmB9vTHcKu"
      }
    },
    {
      "cell_type": "code",
      "source": [
        "per_back_active = weeks_since_start.loc[1]/weeks_since_start.loc[0]*100\n",
        "print(f'There is {per_back_active:.2f}% user active on 2nd week after used the service on the first week')"
      ],
      "metadata": {
        "colab": {
          "base_uri": "https://localhost:8080/"
        },
        "id": "qQ7nplLnA79Z",
        "outputId": "03b4a0c1-3ccb-4508-e150-269f6d6df40d"
      },
      "execution_count": null,
      "outputs": [
        {
          "output_type": "stream",
          "name": "stdout",
          "text": [
            "There is 23.79% user active on 2nd week after used the service on the first week\n"
          ]
        }
      ]
    },
    {
      "cell_type": "markdown",
      "source": [
        "Get the percentage of active users per total users"
      ],
      "metadata": {
        "id": "XrXznR4lHipp"
      }
    },
    {
      "cell_type": "code",
      "source": [
        "retention_series = weeks_since_start / weeks_since_start.loc[0]*100\n",
        "retention_series.head()"
      ],
      "metadata": {
        "colab": {
          "base_uri": "https://localhost:8080/"
        },
        "id": "bxtw47KZB_xc",
        "outputId": "eda1cabe-a176-4067-bbfc-64802322f994"
      },
      "execution_count": null,
      "outputs": [
        {
          "output_type": "execute_result",
          "data": {
            "text/plain": [
              "weeks_since_start\n",
              "0    100.000000\n",
              "1     23.793925\n",
              "2     19.178082\n",
              "3     16.051221\n",
              "4     15.396069\n",
              "Name: User_id, dtype: float64"
            ]
          },
          "metadata": {},
          "execution_count": 43
        }
      ]
    },
    {
      "cell_type": "markdown",
      "source": [
        "Plot the Weekly Retention"
      ],
      "metadata": {
        "id": "xPuI3tZEHqeg"
      }
    },
    {
      "cell_type": "code",
      "source": [
        "plt.figure(figsize=(16,9))\n",
        "plt.plot(retention_series, color = 'red', linewidth= 3)\n",
        "plt.title(\"Weekly Retention Charts Since The program Was Lauched To Monitor\")\n",
        "plt.xlabel(\"Number of Weeks Since User First Started(Weeks)\")\n",
        "plt.ylabel(\"Percent Of Users Retained(%)\")\n"
      ],
      "metadata": {
        "colab": {
          "base_uri": "https://localhost:8080/",
          "height": 584
        },
        "id": "4h8lBxVkDeAK",
        "outputId": "1ea99875-3359-484c-a2d0-5e56e98dfb72"
      },
      "execution_count": null,
      "outputs": [
        {
          "output_type": "execute_result",
          "data": {
            "text/plain": [
              "Text(0, 0.5, 'Percent Of Users Retained(%)')"
            ]
          },
          "metadata": {},
          "execution_count": 44
        },
        {
          "output_type": "display_data",
          "data": {
            "text/plain": [
              "<Figure size 1152x648 with 1 Axes>"
            ],
            "image/png": "[encoded data removed]"
          },
          "metadata": {
            "needs_background": "light"
          }
        }
      ]
    },
    {
      "cell_type": "markdown",
      "source": [
        "#**Part 2: Analyze and Comment**"
      ],
      "metadata": {
        "id": "VJyBKjrGo6k_"
      }
    },
    {
      "cell_type": "markdown",
      "source": [
        "Based on data above, give your opinion about:\t\t"
      ],
      "metadata": {
        "id": "gKxczdt1pKI8"
      }
    },
    {
      "cell_type": "markdown",
      "source": [
        "1/\tUser retention and transaction behavior (Is there any trend?) since Loyalty program launched. Do you have any advice for the Marketing department in designing promotion campaigns to increase user retention's performance monthly?\t\t\t\t\t\t\t\t\t\t\t"
      ],
      "metadata": {
        "id": "0jsaoHsmpFV5"
      }
    },
    {
      "cell_type": "markdown",
      "source": [
        "- From the retention rate report, we can easily see that the trend is a downline from week 0 to week 1. This trend could seem to be dramatic at first, but it actually is understandable as almost every retention rate could have a model like that from week 0 to week 1\n",
        "- To the next several weeks, it has a little plateau period for **2-3 weeks** then gradually decrease overtime\n",
        "- The final rate could be alarming as it has already reach around **6%** retention rate\n"
      ],
      "metadata": {
        "id": "CGc-ZcHGpsF3"
      }
    },
    {
      "cell_type": "markdown",
      "source": [
        "We want to explore that what the proportion of the service groups is, in order to delve more into transaction behavior"
      ],
      "metadata": {
        "id": "4QhfmDvFPoSi"
      }
    },
    {
      "cell_type": "markdown",
      "source": [
        "Check proportion of service group before being launched"
      ],
      "metadata": {
        "id": "XCiRFTrJeUxE"
      }
    },
    {
      "cell_type": "code",
      "source": [
        "trans_before_launched = trans.query(\"DATE < '2022-01-01'\")\n",
        "trans_before_launched.groupby('service_group').GMV.sum().plot(kind='bar',rot=45, figsize=(12,7),title='Service Group Proportion Before \"Momo Hoàn Tiền\" being Launched')"
      ],
      "metadata": {
        "colab": {
          "base_uri": "https://localhost:8080/",
          "height": 568
        },
        "id": "YbpNdN_VdfZw",
        "outputId": "9f2f3de9-2347-4eef-80af-b237c0617731"
      },
      "execution_count": null,
      "outputs": [
        {
          "output_type": "execute_result",
          "data": {
            "text/plain": [
              "<matplotlib.axes._subplots.AxesSubplot at 0x7f2463909390>"
            ]
          },
          "metadata": {},
          "execution_count": 45
        },
        {
          "output_type": "display_data",
          "data": {
            "text/plain": [
              "<Figure size 864x504 with 1 Axes>"
            ],
            "image/png": "[encoded data removed]"
          },
          "metadata": {
            "needs_background": "light"
          }
        }
      ]
    },
    {
      "cell_type": "markdown",
      "source": [
        "Compare proportion of service group beofre and  after being launched"
      ],
      "metadata": {
        "id": "f5PLDEZteO3I"
      }
    },
    {
      "cell_type": "code",
      "source": [
        "pair_trans = pd.DataFrame(columns=['before','after'])\n",
        "pair_trans['after'] = new_trans.groupby('service_group').GMV.sum()\n",
        "pair_trans['before'] = trans_before_launched.groupby('service_group').GMV.sum()\n",
        "pair_trans.fillna(0)\n",
        "pair_trans.plot(kind='pie',subplots=True,figsize=(20,9),\n",
        "                autopct='%1.1f%%',\n",
        "                title='GMV On Service Group Proportion Before vs After \"Momo Hoàn Tiền\" being Launched')"
      ],
      "metadata": {
        "colab": {
          "base_uri": "https://localhost:8080/",
          "height": 637
        },
        "id": "9T7AZt-_gdmp",
        "outputId": "3e0cf9a4-1663-4b7b-aed2-f22503734c85"
      },
      "execution_count": null,
      "outputs": [
        {
          "output_type": "execute_result",
          "data": {
            "text/plain": [
              "array([<matplotlib.axes._subplots.AxesSubplot object at 0x7f2462dd2090>,\n",
              "       <matplotlib.axes._subplots.AxesSubplot object at 0x7f2462d9a9d0>],\n",
              "      dtype=object)"
            ]
          },
          "metadata": {},
          "execution_count": 46
        },
        {
          "output_type": "display_data",
          "data": {
            "text/plain": [
              "<Figure size 1440x648 with 2 Axes>"
            ],
            "image/png": "[encoded data removed]"
          },
          "metadata": {}
        }
      ]
    },
    {
      "cell_type": "markdown",
      "source": [
        "- Before Launched, most of the GMV were divided approximately equally between 2 big Service Group: Marketplace and CVS. To be exact, Marketplace proportion were slightly larger than CVS by about 9%\n",
        "- After Launched, the proportion has shifted dramatically, customers tend to use the service for marketplace with a fraction of 66.4%. On the otherside, CVS has fallen from 34.5% to 7.8%\n"
      ],
      "metadata": {
        "id": "HcyYZHMEl6gp"
      }
    },
    {
      "cell_type": "markdown",
      "source": [
        "Check which Merchant has the largest volume using Momo payment"
      ],
      "metadata": {
        "id": "eN27FFs5Z19X"
      }
    },
    {
      "cell_type": "code",
      "source": [
        "sub_merchant_df = pd.merge(new_trans,merchant,on=['MerchantID','service_group'],how='left')[['Order_id','MerchantID','service_group','Merchant']].drop_duplicates(ignore_index=True)\n",
        "sub_merchant_df.Merchant.value_counts().plot(kind='barh',figsize=(16,9))"
      ],
      "metadata": {
        "colab": {
          "base_uri": "https://localhost:8080/",
          "height": 554
        },
        "id": "sGuzip00Wfwl",
        "outputId": "5d2bbe5b-63d1-4107-fbd2-606ed86f4812"
      },
      "execution_count": null,
      "outputs": [
        {
          "output_type": "execute_result",
          "data": {
            "text/plain": [
              "<matplotlib.axes._subplots.AxesSubplot at 0x7f24631e5fd0>"
            ]
          },
          "metadata": {},
          "execution_count": 47
        },
        {
          "output_type": "display_data",
          "data": {
            "text/plain": [
              "<Figure size 1152x648 with 1 Axes>"
            ],
            "image/png": "[encoded data removed]"
          },
          "metadata": {
            "needs_background": "light"
          }
        }
      ]
    },
    {
      "cell_type": "markdown",
      "source": [
        "Check Total GMV Per Day "
      ],
      "metadata": {
        "id": "x2SjKK2lj5JV"
      }
    },
    {
      "cell_type": "code",
      "source": [
        "new_trans.groupby(['DATE']).GMV.sum().plot(figsize=(16,9), xlabel='Date', ylabel ='GMV(VND)', title = 'Total GMV Per Day Since Program Being Launched')\n"
      ],
      "metadata": {
        "colab": {
          "base_uri": "https://localhost:8080/",
          "height": 619
        },
        "id": "w8Dyr4DQf-XV",
        "outputId": "303a1b1e-efaa-48ae-a1f8-f378c8a60b52"
      },
      "execution_count": null,
      "outputs": [
        {
          "output_type": "execute_result",
          "data": {
            "text/plain": [
              "<matplotlib.axes._subplots.AxesSubplot at 0x7f24630ba450>"
            ]
          },
          "metadata": {},
          "execution_count": 48
        },
        {
          "output_type": "display_data",
          "data": {
            "text/plain": [
              "<Figure size 1152x648 with 1 Axes>"
            ],
            "image/png": "[encoded data removed]"
          },
          "metadata": {
            "needs_background": "light"
          }
        }
      ]
    },
    {
      "cell_type": "markdown",
      "source": [
        "- Based on the given data, most of the retention value is contributed from Diamond and Gold customer. \n",
        "- Hence, we can target the Standard ranking user by several marketing strategy such as in-app marketing and conduct survey to explore the hidden cause. On the otherside, we want to keep rewarding our Gold and Diamond user\n",
        "- Marketplace has been the most profitable platform, we can execute several promotion that keep user using Momo when they checkout on Marketplace\n",
        "- Offline Beverage could be a potential platform because this can be counted as one of the daily neccesary, hence increasing our retention rate. We can push this process faster by **SEO** and **Influencer marketing campaign.** \n",
        "- CVS has been dropped dramatically, so we want to conduct some survey to figure out the reason and then modify \n",
        "- Focus more on philosophy user-centric\n",
        "\n",
        "\n",
        "\n"
      ],
      "metadata": {
        "id": "r-UgKaM0ltuG"
      }
    },
    {
      "cell_type": "markdown",
      "source": [
        "________________________________________________________________________________"
      ],
      "metadata": {
        "id": "CobWsOqvvFh4"
      }
    },
    {
      "cell_type": "markdown",
      "source": [
        "2/\tMomo is facing increasing amount of cashback cost as well as  GMV since launched. However, we want to optimize the cost but still want to keep growth of GMV and increase the retention rate.  Based on data given, please propose ideas to change the schemes of Loyalty benefits and Loyalty Points to alleviate the cost amount.\t\t\t\t\t\t\t\t\t\t\t\t\t\t\t\t"
      ],
      "metadata": {
        "id": "Gj7ldj97rdH9"
      }
    },
    {
      "cell_type": "markdown",
      "source": [
        "- Lower the maximum point that can be earn for Marketplace. Since Marketplace has been the most group's GMV, this one can cause the loyalty points escalating easily\n",
        "- Slightly increase point mechanism for  Offline Beverage and Coffe/Milktea group \n",
        "- We can keep the current cashback mechanism scheme for now to attract more user and improve the retention rate or slightly lower cashback rate for marketplace and supermarket. Then we can lower each cashback rate for each service group depends on its growth, especally on Offline Beverage, CVS and data"
      ],
      "metadata": {
        "id": "GKDP9TuAsCbt"
      }
    },
    {
      "cell_type": "markdown",
      "source": [
        "#**Part 3: Extended question**"
      ],
      "metadata": {
        "id": "z-BuoYbDqVPU"
      }
    },
    {
      "cell_type": "markdown",
      "source": [
        "2/ Gamification is usually a sensible option for apps to raise users’ stickiness. In our loyalty program development strategy, we also plan to hold a small game for users. The rule is simple: any users who can maintain a 20-day or longer streak of being in the DIAMOND ranking is a winner (in other words, winners are users who have total loyalty points greater than or equal to 5,000 for at least 20 consecutive days). We also want to give a special reward for the user(s) who can maintain the longest streak. Could you help us to calculate how many winners were there during the last thirty days in the given data (March 01 - March 31) and who was/were the one(s) boasting the longest streak during that time?\t\t\t\t\t\t\t\t\t\t\n",
        "\t\t\t\t\t\t\t\t\t\t\n",
        "\t\t\t\t\t\t\t\t\t\t\n",
        "\t\t\t\t\t\t\t\t\t\t"
      ],
      "metadata": {
        "id": "Q0InFhtRqXli"
      }
    },
    {
      "cell_type": "code",
      "source": [
        "#Get needed columns to get the ultimate results\n",
        "added_cols = ['DATE','User_id','point','loyalty_points','rank_name'] \n",
        "test_df = new_trans.copy()[added_cols]\n",
        "test_df['prev_loy_points'] = test_df.groupby(['User_id']).loyalty_points.shift(1) #loyalty point of the previous trans record of user\n",
        "test_df['not_diamond_b4'] = test_df['prev_loy_points'] >= 5000 #bool columns to check if the user has already a DIAMOND ranking\n",
        "test_df['prev_date'] = test_df.groupby(['User_id']).DATE.shift(1) #date of previous trans record of user\n",
        "test_df['time_range'] = test_df['DATE'] - test_df['prev_date'] #time different between the previous transaction and the current transaction"
      ],
      "metadata": {
        "id": "Wh_TzMGK5Euz"
      },
      "execution_count": null,
      "outputs": []
    },
    {
      "cell_type": "code",
      "source": [
        "test_df.query(\"rank_name == 'DIAMOND'\") #get all the diamond user transaction record"
      ],
      "metadata": {
        "colab": {
          "base_uri": "https://localhost:8080/",
          "height": 424
        },
        "id": "7BY2w_MtHZ1x",
        "outputId": "1c1af6cb-9085-44ba-f26e-7dc9ec20fc49"
      },
      "execution_count": null,
      "outputs": [
        {
          "output_type": "execute_result",
          "data": {
            "text/plain": [
              "            DATE   User_id   point  loyalty_points rank_name  prev_loy_points  \\\n",
              "1189  2022-01-05  50469826  1000.0         5000.00   DIAMOND           4000.0   \n",
              "1197  2022-01-05  50469826  1000.0         6000.00   DIAMOND           5000.0   \n",
              "1209  2022-01-06  50185392   500.0         7578.00   DIAMOND           3600.0   \n",
              "1211  2022-01-06  50185392   500.0         7078.00   DIAMOND           7578.0   \n",
              "1214  2022-01-06  50185392   500.0         6578.00   DIAMOND           7078.0   \n",
              "...          ...       ...     ...             ...       ...              ...   \n",
              "18680 2022-03-31  47662326   500.0        21353.32   DIAMOND          21713.1   \n",
              "18760 2022-03-31  49689927   100.0         9000.00   DIAMOND           8700.0   \n",
              "18785 2022-03-31  49689927   100.0         8800.00   DIAMOND           9000.0   \n",
              "18795 2022-03-31  49689927   100.0         8900.00   DIAMOND           8800.0   \n",
              "18804 2022-03-31  49689927   100.0         9100.00   DIAMOND           8900.0   \n",
              "\n",
              "       not_diamond_b4  prev_date time_range  \n",
              "1189            False 2022-01-05     0 days  \n",
              "1197             True 2022-01-05     0 days  \n",
              "1209            False 2022-01-05     1 days  \n",
              "1211             True 2022-01-06     0 days  \n",
              "1214             True 2022-01-06     0 days  \n",
              "...               ...        ...        ...  \n",
              "18680            True 2022-03-29     2 days  \n",
              "18760            True 2022-03-30     1 days  \n",
              "18785            True 2022-03-31     0 days  \n",
              "18795            True 2022-03-31     0 days  \n",
              "18804            True 2022-03-31     0 days  \n",
              "\n",
              "[784 rows x 9 columns]"
            ],
            "text/html": [
              "\n",
              "  <div id=\"df-32a1ed44-aaba-404b-a93c-9cd83e081617\">\n",
              "    <div class=\"colab-df-container\">\n",
              "      <div>\n",
              "<style scoped>\n",
              "    .dataframe tbody tr th:only-of-type {\n",
              "        vertical-align: middle;\n",
              "    }\n",
              "\n",
              "    .dataframe tbody tr th {\n",
              "        vertical-align: top;\n",
              "    }\n",
              "\n",
              "    .dataframe thead th {\n",
              "        text-align: right;\n",
              "    }\n",
              "</style>\n",
              "<table border=\"1\" class=\"dataframe\">\n",
              "  <thead>\n",
              "    <tr style=\"text-align: right;\">\n",
              "      <th></th>\n",
              "      <th>DATE</th>\n",
              "      <th>User_id</th>\n",
              "      <th>point</th>\n",
              "      <th>loyalty_points</th>\n",
              "      <th>rank_name</th>\n",
              "      <th>prev_loy_points</th>\n",
              "      <th>not_diamond_b4</th>\n",
              "      <th>prev_date</th>\n",
              "      <th>time_range</th>\n",
              "    </tr>\n",
              "  </thead>\n",
              "  <tbody>\n",
              "    <tr>\n",
              "      <th>1189</th>\n",
              "      <td>2022-01-05</td>\n",
              "      <td>50469826</td>\n",
              "      <td>1000.0</td>\n",
              "      <td>5000.00</td>\n",
              "      <td>DIAMOND</td>\n",
              "      <td>4000.0</td>\n",
              "      <td>False</td>\n",
              "      <td>2022-01-05</td>\n",
              "      <td>0 days</td>\n",
              "    </tr>\n",
              "    <tr>\n",
              "      <th>1197</th>\n",
              "      <td>2022-01-05</td>\n",
              "      <td>50469826</td>\n",
              "      <td>1000.0</td>\n",
              "      <td>6000.00</td>\n",
              "      <td>DIAMOND</td>\n",
              "      <td>5000.0</td>\n",
              "      <td>True</td>\n",
              "      <td>2022-01-05</td>\n",
              "      <td>0 days</td>\n",
              "    </tr>\n",
              "    <tr>\n",
              "      <th>1209</th>\n",
              "      <td>2022-01-06</td>\n",
              "      <td>50185392</td>\n",
              "      <td>500.0</td>\n",
              "      <td>7578.00</td>\n",
              "      <td>DIAMOND</td>\n",
              "      <td>3600.0</td>\n",
              "      <td>False</td>\n",
              "      <td>2022-01-05</td>\n",
              "      <td>1 days</td>\n",
              "    </tr>\n",
              "    <tr>\n",
              "      <th>1211</th>\n",
              "      <td>2022-01-06</td>\n",
              "      <td>50185392</td>\n",
              "      <td>500.0</td>\n",
              "      <td>7078.00</td>\n",
              "      <td>DIAMOND</td>\n",
              "      <td>7578.0</td>\n",
              "      <td>True</td>\n",
              "      <td>2022-01-06</td>\n",
              "      <td>0 days</td>\n",
              "    </tr>\n",
              "    <tr>\n",
              "      <th>1214</th>\n",
              "      <td>2022-01-06</td>\n",
              "      <td>50185392</td>\n",
              "      <td>500.0</td>\n",
              "      <td>6578.00</td>\n",
              "      <td>DIAMOND</td>\n",
              "      <td>7078.0</td>\n",
              "      <td>True</td>\n",
              "      <td>2022-01-06</td>\n",
              "      <td>0 days</td>\n",
              "    </tr>\n",
              "    <tr>\n",
              "      <th>...</th>\n",
              "      <td>...</td>\n",
              "      <td>...</td>\n",
              "      <td>...</td>\n",
              "      <td>...</td>\n",
              "      <td>...</td>\n",
              "      <td>...</td>\n",
              "      <td>...</td>\n",
              "      <td>...</td>\n",
              "      <td>...</td>\n",
              "    </tr>\n",
              "    <tr>\n",
              "      <th>18680</th>\n",
              "      <td>2022-03-31</td>\n",
              "      <td>47662326</td>\n",
              "      <td>500.0</td>\n",
              "      <td>21353.32</td>\n",
              "      <td>DIAMOND</td>\n",
              "      <td>21713.1</td>\n",
              "      <td>True</td>\n",
              "      <td>2022-03-29</td>\n",
              "      <td>2 days</td>\n",
              "    </tr>\n",
              "    <tr>\n",
              "      <th>18760</th>\n",
              "      <td>2022-03-31</td>\n",
              "      <td>49689927</td>\n",
              "      <td>100.0</td>\n",
              "      <td>9000.00</td>\n",
              "      <td>DIAMOND</td>\n",
              "      <td>8700.0</td>\n",
              "      <td>True</td>\n",
              "      <td>2022-03-30</td>\n",
              "      <td>1 days</td>\n",
              "    </tr>\n",
              "    <tr>\n",
              "      <th>18785</th>\n",
              "      <td>2022-03-31</td>\n",
              "      <td>49689927</td>\n",
              "      <td>100.0</td>\n",
              "      <td>8800.00</td>\n",
              "      <td>DIAMOND</td>\n",
              "      <td>9000.0</td>\n",
              "      <td>True</td>\n",
              "      <td>2022-03-31</td>\n",
              "      <td>0 days</td>\n",
              "    </tr>\n",
              "    <tr>\n",
              "      <th>18795</th>\n",
              "      <td>2022-03-31</td>\n",
              "      <td>49689927</td>\n",
              "      <td>100.0</td>\n",
              "      <td>8900.00</td>\n",
              "      <td>DIAMOND</td>\n",
              "      <td>8800.0</td>\n",
              "      <td>True</td>\n",
              "      <td>2022-03-31</td>\n",
              "      <td>0 days</td>\n",
              "    </tr>\n",
              "    <tr>\n",
              "      <th>18804</th>\n",
              "      <td>2022-03-31</td>\n",
              "      <td>49689927</td>\n",
              "      <td>100.0</td>\n",
              "      <td>9100.00</td>\n",
              "      <td>DIAMOND</td>\n",
              "      <td>8900.0</td>\n",
              "      <td>True</td>\n",
              "      <td>2022-03-31</td>\n",
              "      <td>0 days</td>\n",
              "    </tr>\n",
              "  </tbody>\n",
              "</table>\n",
              "<p>784 rows × 9 columns</p>\n",
              "</div>\n",
              "      <button class=\"colab-df-convert\" onclick=\"convertToInteractive('df-32a1ed44-aaba-404b-a93c-9cd83e081617')\"\n",
              "              title=\"Convert this dataframe to an interactive table.\"\n",
              "              style=\"display:none;\">\n",
              "        \n",
              "  <svg xmlns=\"http://www.w3.org/2000/svg\" height=\"24px\"viewBox=\"0 0 24 24\"\n",
              "       width=\"24px\">\n",
              "    <path d=\"M0 0h24v24H0V0z\" fill=\"none\"/>\n",
              "    <path d=\"M18.56 5.44l.94 2.06.94-2.06 2.06-.94-2.06-.94-.94-2.06-.94 2.06-2.06.94zm-11 1L8.5 8.5l.94-2.06 2.06-.94-2.06-.94L8.5 2.5l-.94 2.06-2.06.94zm10 10l.94 2.06.94-2.06 2.06-.94-2.06-.94-.94-2.06-.94 2.06-2.06.94z\"/><path d=\"M17.41 7.96l-1.37-1.37c-.4-.4-.92-.59-1.43-.59-.52 0-1.04.2-1.43.59L10.3 9.45l-7.72 7.72c-.78.78-.78 2.05 0 2.83L4 21.41c.39.39.9.59 1.41.59.51 0 1.02-.2 1.41-.59l7.78-7.78 2.81-2.81c.8-.78.8-2.07 0-2.86zM5.41 20L4 18.59l7.72-7.72 1.47 1.35L5.41 20z\"/>\n",
              "  </svg>\n",
              "      </button>\n",
              "      \n",
              "  <style>\n",
              "    .colab-df-container {\n",
              "      display:flex;\n",
              "      flex-wrap:wrap;\n",
              "      gap: 12px;\n",
              "    }\n",
              "\n",
              "    .colab-df-convert {\n",
              "      background-color: #E8F0FE;\n",
              "      border: none;\n",
              "      border-radius: 50%;\n",
              "      cursor: pointer;\n",
              "      display: none;\n",
              "      fill: #1967D2;\n",
              "      height: 32px;\n",
              "      padding: 0 0 0 0;\n",
              "      width: 32px;\n",
              "    }\n",
              "\n",
              "    .colab-df-convert:hover {\n",
              "      background-color: #E2EBFA;\n",
              "      box-shadow: 0px 1px 2px rgba(60, 64, 67, 0.3), 0px 1px 3px 1px rgba(60, 64, 67, 0.15);\n",
              "      fill: #174EA6;\n",
              "    }\n",
              "\n",
              "    [theme=dark] .colab-df-convert {\n",
              "      background-color: #3B4455;\n",
              "      fill: #D2E3FC;\n",
              "    }\n",
              "\n",
              "    [theme=dark] .colab-df-convert:hover {\n",
              "      background-color: #434B5C;\n",
              "      box-shadow: 0px 1px 3px 1px rgba(0, 0, 0, 0.15);\n",
              "      filter: drop-shadow(0px 1px 2px rgba(0, 0, 0, 0.3));\n",
              "      fill: #FFFFFF;\n",
              "    }\n",
              "  </style>\n",
              "\n",
              "      <script>\n",
              "        const buttonEl =\n",
              "          document.querySelector('#df-32a1ed44-aaba-404b-a93c-9cd83e081617 button.colab-df-convert');\n",
              "        buttonEl.style.display =\n",
              "          google.colab.kernel.accessAllowed ? 'block' : 'none';\n",
              "\n",
              "        async function convertToInteractive(key) {\n",
              "          const element = document.querySelector('#df-32a1ed44-aaba-404b-a93c-9cd83e081617');\n",
              "          const dataTable =\n",
              "            await google.colab.kernel.invokeFunction('convertToInteractive',\n",
              "                                                     [key], {});\n",
              "          if (!dataTable) return;\n",
              "\n",
              "          const docLinkHtml = 'Like what you see? Visit the ' +\n",
              "            '<a target=\"_blank\" href=https://colab.research.google.com/notebooks/data_table.ipynb>data table notebook</a>'\n",
              "            + ' to learn more about interactive tables.';\n",
              "          element.innerHTML = '';\n",
              "          dataTable['output_type'] = 'display_data';\n",
              "          await google.colab.output.renderOutput(dataTable, element);\n",
              "          const docLink = document.createElement('div');\n",
              "          docLink.innerHTML = docLinkHtml;\n",
              "          element.appendChild(docLink);\n",
              "        }\n",
              "      </script>\n",
              "    </div>\n",
              "  </div>\n",
              "  "
            ]
          },
          "metadata": {},
          "execution_count": 50
        }
      ]
    },
    {
      "cell_type": "code",
      "source": [
        "def get_streak(df,user_id):\n",
        "  user_df = df[df.User_id == user_id]\n",
        "  streaks = []\n",
        "  dates = []\n",
        "\n",
        "  #Loop thru the df to get the streak of the particular user for each transaction\n",
        "  for i,row in user_df.iterrows():\n",
        "    check = row['not_diamond_b4']\n",
        "    cur_date = row['DATE']\n",
        "    prev_date = row['prev_date']\n",
        "    time_range = row['time_range']\n",
        "    \n",
        "    if check:\n",
        "      streak = time_range + streaks[-1]\n",
        "      streaks.append(streak)\n",
        "\n",
        "    else:\n",
        "      streaks.append(pd.to_timedelta('0'))\n",
        "\n",
        "    dates.append(cur_date)\n",
        "  \n",
        "  n = len(dates)\n",
        "  user = [user_id]*n\n",
        "  new_df = pd.DataFrame(list(zip(dates,user,streaks)), columns = ['DATE','User_id','Streak'])\n",
        "\n",
        "  #Return the dataframe that contains streak for each transaction per user_id\n",
        "  return new_df\n"
      ],
      "metadata": {
        "id": "NbWVL2G89nQa"
      },
      "execution_count": null,
      "outputs": []
    },
    {
      "cell_type": "code",
      "source": [
        "test_df_diamond = test_df.query(\"rank_name == 'DIAMOND'\")\n",
        "\n",
        "#Create new dataframe, and loop thru each unique user_id to get the repsective streak for its transaction record\n",
        "diamond_users = list(test_df_diamond['User_id'].unique())\n",
        "diamond_streaks_df = pd.DataFrame(columns = ['DATE','User_id','Streak'])\n",
        "\n",
        "for user_id in diamond_users:\n",
        "  new_df = get_streak(test_df_diamond,user_id)\n",
        "  diamond_streaks_df = pd.concat([diamond_streaks_df,new_df],ignore_index = True)\n",
        "\n",
        "diamond_streaks_df.head()"
      ],
      "metadata": {
        "colab": {
          "base_uri": "https://localhost:8080/",
          "height": 206
        },
        "id": "vUQZRg4jI6Tx",
        "outputId": "3411eb36-8b79-4f9b-f47e-55a6c4518bec"
      },
      "execution_count": null,
      "outputs": [
        {
          "output_type": "execute_result",
          "data": {
            "text/plain": [
              "        DATE   User_id Streak\n",
              "0 2022-01-05  50469826 0 days\n",
              "1 2022-01-05  50469826 0 days\n",
              "2 2022-01-06  50185392 0 days\n",
              "3 2022-01-06  50185392 0 days\n",
              "4 2022-01-06  50185392 0 days"
            ],
            "text/html": [
              "\n",
              "  <div id=\"df-2905412b-8bf9-4e3b-b922-ca2f0f5a7112\">\n",
              "    <div class=\"colab-df-container\">\n",
              "      <div>\n",
              "<style scoped>\n",
              "    .dataframe tbody tr th:only-of-type {\n",
              "        vertical-align: middle;\n",
              "    }\n",
              "\n",
              "    .dataframe tbody tr th {\n",
              "        vertical-align: top;\n",
              "    }\n",
              "\n",
              "    .dataframe thead th {\n",
              "        text-align: right;\n",
              "    }\n",
              "</style>\n",
              "<table border=\"1\" class=\"dataframe\">\n",
              "  <thead>\n",
              "    <tr style=\"text-align: right;\">\n",
              "      <th></th>\n",
              "      <th>DATE</th>\n",
              "      <th>User_id</th>\n",
              "      <th>Streak</th>\n",
              "    </tr>\n",
              "  </thead>\n",
              "  <tbody>\n",
              "    <tr>\n",
              "      <th>0</th>\n",
              "      <td>2022-01-05</td>\n",
              "      <td>50469826</td>\n",
              "      <td>0 days</td>\n",
              "    </tr>\n",
              "    <tr>\n",
              "      <th>1</th>\n",
              "      <td>2022-01-05</td>\n",
              "      <td>50469826</td>\n",
              "      <td>0 days</td>\n",
              "    </tr>\n",
              "    <tr>\n",
              "      <th>2</th>\n",
              "      <td>2022-01-06</td>\n",
              "      <td>50185392</td>\n",
              "      <td>0 days</td>\n",
              "    </tr>\n",
              "    <tr>\n",
              "      <th>3</th>\n",
              "      <td>2022-01-06</td>\n",
              "      <td>50185392</td>\n",
              "      <td>0 days</td>\n",
              "    </tr>\n",
              "    <tr>\n",
              "      <th>4</th>\n",
              "      <td>2022-01-06</td>\n",
              "      <td>50185392</td>\n",
              "      <td>0 days</td>\n",
              "    </tr>\n",
              "  </tbody>\n",
              "</table>\n",
              "</div>\n",
              "      <button class=\"colab-df-convert\" onclick=\"convertToInteractive('df-2905412b-8bf9-4e3b-b922-ca2f0f5a7112')\"\n",
              "              title=\"Convert this dataframe to an interactive table.\"\n",
              "              style=\"display:none;\">\n",
              "        \n",
              "  <svg xmlns=\"http://www.w3.org/2000/svg\" height=\"24px\"viewBox=\"0 0 24 24\"\n",
              "       width=\"24px\">\n",
              "    <path d=\"M0 0h24v24H0V0z\" fill=\"none\"/>\n",
              "    <path d=\"M18.56 5.44l.94 2.06.94-2.06 2.06-.94-2.06-.94-.94-2.06-.94 2.06-2.06.94zm-11 1L8.5 8.5l.94-2.06 2.06-.94-2.06-.94L8.5 2.5l-.94 2.06-2.06.94zm10 10l.94 2.06.94-2.06 2.06-.94-2.06-.94-.94-2.06-.94 2.06-2.06.94z\"/><path d=\"M17.41 7.96l-1.37-1.37c-.4-.4-.92-.59-1.43-.59-.52 0-1.04.2-1.43.59L10.3 9.45l-7.72 7.72c-.78.78-.78 2.05 0 2.83L4 21.41c.39.39.9.59 1.41.59.51 0 1.02-.2 1.41-.59l7.78-7.78 2.81-2.81c.8-.78.8-2.07 0-2.86zM5.41 20L4 18.59l7.72-7.72 1.47 1.35L5.41 20z\"/>\n",
              "  </svg>\n",
              "      </button>\n",
              "      \n",
              "  <style>\n",
              "    .colab-df-container {\n",
              "      display:flex;\n",
              "      flex-wrap:wrap;\n",
              "      gap: 12px;\n",
              "    }\n",
              "\n",
              "    .colab-df-convert {\n",
              "      background-color: #E8F0FE;\n",
              "      border: none;\n",
              "      border-radius: 50%;\n",
              "      cursor: pointer;\n",
              "      display: none;\n",
              "      fill: #1967D2;\n",
              "      height: 32px;\n",
              "      padding: 0 0 0 0;\n",
              "      width: 32px;\n",
              "    }\n",
              "\n",
              "    .colab-df-convert:hover {\n",
              "      background-color: #E2EBFA;\n",
              "      box-shadow: 0px 1px 2px rgba(60, 64, 67, 0.3), 0px 1px 3px 1px rgba(60, 64, 67, 0.15);\n",
              "      fill: #174EA6;\n",
              "    }\n",
              "\n",
              "    [theme=dark] .colab-df-convert {\n",
              "      background-color: #3B4455;\n",
              "      fill: #D2E3FC;\n",
              "    }\n",
              "\n",
              "    [theme=dark] .colab-df-convert:hover {\n",
              "      background-color: #434B5C;\n",
              "      box-shadow: 0px 1px 3px 1px rgba(0, 0, 0, 0.15);\n",
              "      filter: drop-shadow(0px 1px 2px rgba(0, 0, 0, 0.3));\n",
              "      fill: #FFFFFF;\n",
              "    }\n",
              "  </style>\n",
              "\n",
              "      <script>\n",
              "        const buttonEl =\n",
              "          document.querySelector('#df-2905412b-8bf9-4e3b-b922-ca2f0f5a7112 button.colab-df-convert');\n",
              "        buttonEl.style.display =\n",
              "          google.colab.kernel.accessAllowed ? 'block' : 'none';\n",
              "\n",
              "        async function convertToInteractive(key) {\n",
              "          const element = document.querySelector('#df-2905412b-8bf9-4e3b-b922-ca2f0f5a7112');\n",
              "          const dataTable =\n",
              "            await google.colab.kernel.invokeFunction('convertToInteractive',\n",
              "                                                     [key], {});\n",
              "          if (!dataTable) return;\n",
              "\n",
              "          const docLinkHtml = 'Like what you see? Visit the ' +\n",
              "            '<a target=\"_blank\" href=https://colab.research.google.com/notebooks/data_table.ipynb>data table notebook</a>'\n",
              "            + ' to learn more about interactive tables.';\n",
              "          element.innerHTML = '';\n",
              "          dataTable['output_type'] = 'display_data';\n",
              "          await google.colab.output.renderOutput(dataTable, element);\n",
              "          const docLink = document.createElement('div');\n",
              "          docLink.innerHTML = docLinkHtml;\n",
              "          element.appendChild(docLink);\n",
              "        }\n",
              "      </script>\n",
              "    </div>\n",
              "  </div>\n",
              "  "
            ]
          },
          "metadata": {},
          "execution_count": 52
        }
      ]
    },
    {
      "cell_type": "markdown",
      "source": [
        "**Filter out diamond user who has 20 days streak**"
      ],
      "metadata": {
        "id": "o4bbudVlJLdS"
      }
    },
    {
      "cell_type": "code",
      "source": [
        "diamond_20streak_df= diamond_streaks_df[diamond_streaks_df.Streak >= pd.to_timedelta('20D')]\n",
        "diamond_20streak_df.head()"
      ],
      "metadata": {
        "colab": {
          "base_uri": "https://localhost:8080/",
          "height": 206
        },
        "id": "zh5BPRsN-hX-",
        "outputId": "4749d6fe-d52c-4ee9-9d9c-7b83b5baa9e9"
      },
      "execution_count": null,
      "outputs": [
        {
          "output_type": "execute_result",
          "data": {
            "text/plain": [
              "         DATE   User_id  Streak\n",
              "64 2022-01-30  50185392 21 days\n",
              "65 2022-01-30  50185392 21 days\n",
              "66 2022-02-06  50185392 28 days\n",
              "67 2022-02-06  50185392 28 days\n",
              "68 2022-02-06  50185392 28 days"
            ],
            "text/html": [
              "\n",
              "  <div id=\"df-c66903c6-527a-46b7-a92d-547746017ed6\">\n",
              "    <div class=\"colab-df-container\">\n",
              "      <div>\n",
              "<style scoped>\n",
              "    .dataframe tbody tr th:only-of-type {\n",
              "        vertical-align: middle;\n",
              "    }\n",
              "\n",
              "    .dataframe tbody tr th {\n",
              "        vertical-align: top;\n",
              "    }\n",
              "\n",
              "    .dataframe thead th {\n",
              "        text-align: right;\n",
              "    }\n",
              "</style>\n",
              "<table border=\"1\" class=\"dataframe\">\n",
              "  <thead>\n",
              "    <tr style=\"text-align: right;\">\n",
              "      <th></th>\n",
              "      <th>DATE</th>\n",
              "      <th>User_id</th>\n",
              "      <th>Streak</th>\n",
              "    </tr>\n",
              "  </thead>\n",
              "  <tbody>\n",
              "    <tr>\n",
              "      <th>64</th>\n",
              "      <td>2022-01-30</td>\n",
              "      <td>50185392</td>\n",
              "      <td>21 days</td>\n",
              "    </tr>\n",
              "    <tr>\n",
              "      <th>65</th>\n",
              "      <td>2022-01-30</td>\n",
              "      <td>50185392</td>\n",
              "      <td>21 days</td>\n",
              "    </tr>\n",
              "    <tr>\n",
              "      <th>66</th>\n",
              "      <td>2022-02-06</td>\n",
              "      <td>50185392</td>\n",
              "      <td>28 days</td>\n",
              "    </tr>\n",
              "    <tr>\n",
              "      <th>67</th>\n",
              "      <td>2022-02-06</td>\n",
              "      <td>50185392</td>\n",
              "      <td>28 days</td>\n",
              "    </tr>\n",
              "    <tr>\n",
              "      <th>68</th>\n",
              "      <td>2022-02-06</td>\n",
              "      <td>50185392</td>\n",
              "      <td>28 days</td>\n",
              "    </tr>\n",
              "  </tbody>\n",
              "</table>\n",
              "</div>\n",
              "      <button class=\"colab-df-convert\" onclick=\"convertToInteractive('df-c66903c6-527a-46b7-a92d-547746017ed6')\"\n",
              "              title=\"Convert this dataframe to an interactive table.\"\n",
              "              style=\"display:none;\">\n",
              "        \n",
              "  <svg xmlns=\"http://www.w3.org/2000/svg\" height=\"24px\"viewBox=\"0 0 24 24\"\n",
              "       width=\"24px\">\n",
              "    <path d=\"M0 0h24v24H0V0z\" fill=\"none\"/>\n",
              "    <path d=\"M18.56 5.44l.94 2.06.94-2.06 2.06-.94-2.06-.94-.94-2.06-.94 2.06-2.06.94zm-11 1L8.5 8.5l.94-2.06 2.06-.94-2.06-.94L8.5 2.5l-.94 2.06-2.06.94zm10 10l.94 2.06.94-2.06 2.06-.94-2.06-.94-.94-2.06-.94 2.06-2.06.94z\"/><path d=\"M17.41 7.96l-1.37-1.37c-.4-.4-.92-.59-1.43-.59-.52 0-1.04.2-1.43.59L10.3 9.45l-7.72 7.72c-.78.78-.78 2.05 0 2.83L4 21.41c.39.39.9.59 1.41.59.51 0 1.02-.2 1.41-.59l7.78-7.78 2.81-2.81c.8-.78.8-2.07 0-2.86zM5.41 20L4 18.59l7.72-7.72 1.47 1.35L5.41 20z\"/>\n",
              "  </svg>\n",
              "      </button>\n",
              "      \n",
              "  <style>\n",
              "    .colab-df-container {\n",
              "      display:flex;\n",
              "      flex-wrap:wrap;\n",
              "      gap: 12px;\n",
              "    }\n",
              "\n",
              "    .colab-df-convert {\n",
              "      background-color: #E8F0FE;\n",
              "      border: none;\n",
              "      border-radius: 50%;\n",
              "      cursor: pointer;\n",
              "      display: none;\n",
              "      fill: #1967D2;\n",
              "      height: 32px;\n",
              "      padding: 0 0 0 0;\n",
              "      width: 32px;\n",
              "    }\n",
              "\n",
              "    .colab-df-convert:hover {\n",
              "      background-color: #E2EBFA;\n",
              "      box-shadow: 0px 1px 2px rgba(60, 64, 67, 0.3), 0px 1px 3px 1px rgba(60, 64, 67, 0.15);\n",
              "      fill: #174EA6;\n",
              "    }\n",
              "\n",
              "    [theme=dark] .colab-df-convert {\n",
              "      background-color: #3B4455;\n",
              "      fill: #D2E3FC;\n",
              "    }\n",
              "\n",
              "    [theme=dark] .colab-df-convert:hover {\n",
              "      background-color: #434B5C;\n",
              "      box-shadow: 0px 1px 3px 1px rgba(0, 0, 0, 0.15);\n",
              "      filter: drop-shadow(0px 1px 2px rgba(0, 0, 0, 0.3));\n",
              "      fill: #FFFFFF;\n",
              "    }\n",
              "  </style>\n",
              "\n",
              "      <script>\n",
              "        const buttonEl =\n",
              "          document.querySelector('#df-c66903c6-527a-46b7-a92d-547746017ed6 button.colab-df-convert');\n",
              "        buttonEl.style.display =\n",
              "          google.colab.kernel.accessAllowed ? 'block' : 'none';\n",
              "\n",
              "        async function convertToInteractive(key) {\n",
              "          const element = document.querySelector('#df-c66903c6-527a-46b7-a92d-547746017ed6');\n",
              "          const dataTable =\n",
              "            await google.colab.kernel.invokeFunction('convertToInteractive',\n",
              "                                                     [key], {});\n",
              "          if (!dataTable) return;\n",
              "\n",
              "          const docLinkHtml = 'Like what you see? Visit the ' +\n",
              "            '<a target=\"_blank\" href=https://colab.research.google.com/notebooks/data_table.ipynb>data table notebook</a>'\n",
              "            + ' to learn more about interactive tables.';\n",
              "          element.innerHTML = '';\n",
              "          dataTable['output_type'] = 'display_data';\n",
              "          await google.colab.output.renderOutput(dataTable, element);\n",
              "          const docLink = document.createElement('div');\n",
              "          docLink.innerHTML = docLinkHtml;\n",
              "          element.appendChild(docLink);\n",
              "        }\n",
              "      </script>\n",
              "    </div>\n",
              "  </div>\n",
              "  "
            ]
          },
          "metadata": {},
          "execution_count": 53
        }
      ]
    },
    {
      "cell_type": "markdown",
      "source": [
        "**List of User ID that has 20 streaks**"
      ],
      "metadata": {
        "id": "ezEhV__EKDp6"
      }
    },
    {
      "cell_type": "code",
      "source": [
        "top_users = list(diamond_20streak_df.User_id.unique())\n",
        "for user in top_users:\n",
        "  print(user, end ='  ')"
      ],
      "metadata": {
        "colab": {
          "base_uri": "https://localhost:8080/"
        },
        "id": "cZjIiOku9Ite",
        "outputId": "3c250a90-5b4d-4871-8a2b-014deb298be9"
      },
      "execution_count": null,
      "outputs": [
        {
          "output_type": "stream",
          "name": "stdout",
          "text": [
            "50185392  54960619  47662326  39956101  55200938  57207697  39314846  51432947  "
          ]
        }
      ]
    },
    {
      "cell_type": "markdown",
      "source": [
        "**The User ID that has the longeest streak and receive a special reward**"
      ],
      "metadata": {
        "id": "O6mUpIdwKv6u"
      }
    },
    {
      "cell_type": "code",
      "source": [
        "diamond_20streak_df.loc[diamond_20streak_df.Streak.idxmax(),'User_id']"
      ],
      "metadata": {
        "colab": {
          "base_uri": "https://localhost:8080/"
        },
        "id": "cPV80VfMJvrS",
        "outputId": "447dd0f4-a4b6-4b72-b226-c2c50d7ee8ed"
      },
      "execution_count": null,
      "outputs": [
        {
          "output_type": "execute_result",
          "data": {
            "text/plain": [
              "47662326"
            ]
          },
          "metadata": {},
          "execution_count": 55
        }
      ]
    },
    {
      "cell_type": "markdown",
      "source": [
        "**Filter out the number winners in last 30 days**"
      ],
      "metadata": {
        "id": "Q7nlIFl7Lq1o"
      }
    },
    {
      "cell_type": "code",
      "source": [
        "diamond_20_last_30days = diamond_20streak_df.query(\"DATE > '2022-02-28'\")\n",
        "diamond_20_last_30days.User_id.nunique()"
      ],
      "metadata": {
        "colab": {
          "base_uri": "https://localhost:8080/"
        },
        "id": "gL_kYHC1K8mW",
        "outputId": "72c8c921-9471-4158-c691-be06643c6c91"
      },
      "execution_count": null,
      "outputs": [
        {
          "output_type": "execute_result",
          "data": {
            "text/plain": [
              "6"
            ]
          },
          "metadata": {},
          "execution_count": 56
        }
      ]
    },
    {
      "cell_type": "markdown",
      "source": [
        "**Winner that have longest streak during last 30 days**"
      ],
      "metadata": {
        "id": "OuVvKGEDMu4b"
      }
    },
    {
      "cell_type": "code",
      "source": [
        "diamond_20_last_30days.loc[diamond_20_last_30days.Streak.idxmax(),'User_id']"
      ],
      "metadata": {
        "colab": {
          "base_uri": "https://localhost:8080/"
        },
        "id": "2EHsOAWoMJBT",
        "outputId": "66a1ed4a-d489-4d8f-b336-0ca251b09677"
      },
      "execution_count": null,
      "outputs": [
        {
          "output_type": "execute_result",
          "data": {
            "text/plain": [
              "47662326"
            ]
          },
          "metadata": {},
          "execution_count": 57
        }
      ]
    }
  ]
}